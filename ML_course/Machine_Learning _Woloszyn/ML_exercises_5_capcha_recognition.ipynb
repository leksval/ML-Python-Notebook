{
 "cells": [
  {
   "cell_type": "code",
   "execution_count": 293,
   "metadata": {},
   "outputs": [],
   "source": [
    "import PIL\n",
    "import numpy as np\n",
    "import matplotlib.pyplot as plt\n",
    "from pathlib import Path\n",
    "import random\n",
    "import bisect\n",
    "from scipy.signal import find_peaks"
   ]
  },
  {
   "cell_type": "code",
   "execution_count": 294,
   "metadata": {
    "scrolled": true
   },
   "outputs": [],
   "source": [
    "IMGPATH = Path('data') #użycie Path zamiast stringów ze scieszką pozwala unikać problemów z uruchamianiem na różnych systemach\n",
    "TRAINPATH = Path('train')\n",
    "TRAINPATH.mkdir(exist_ok = True)"
   ]
  },
  {
   "cell_type": "code",
   "execution_count": 295,
   "metadata": {},
   "outputs": [],
   "source": [
    "def captchas(): # generowanie listy pathów do plików \n",
    "    return list(IMGPATH.glob('*.png'))"
   ]
  },
  {
   "cell_type": "code",
   "execution_count": 296,
   "metadata": {},
   "outputs": [],
   "source": [
    "def random_captcha(): # wylosowanie 1 randomowej ścieżki \n",
    "    return random.choice(captchas())"
   ]
  },
  {
   "cell_type": "code",
   "execution_count": null,
   "metadata": {},
   "outputs": [],
   "source": [
    "## w colect_edges  skalujemy wszystkie obrazki do średniej wielkości liter"
   ]
  },
  {
   "cell_type": "code",
   "execution_count": null,
   "metadata": {},
   "outputs": [],
   "source": [
    "# convert('L') luminance -> zamiana na czarno-białe\n",
    "\n",
    "# zip(edges, edges[1:]) bo musimy iterować po parze left, right z eges\n",
    "\n",
    "# box parametr określający wspołrzędne bloku do wycięcia\n",
    "# size to docelowy rozmiar fragmentu\n",
    "# rezemple -> rodzaj interpolacji tu lanczos\n",
    "\n",
    "#np.arr(piece) /255 poto by wartości były w przedziale od0 do 1\n",
    "\n",
    "\n",
    "\n",
    "#@property \n",
    "#...\n",
    "#zmieni wymiar zestakowanych tablic z pieces (literami) na 3 wymiarowy zbiór danych (ilość pieces, wysokość, szerokość litery)"
   ]
  },
  {
   "cell_type": "code",
   "execution_count": 297,
   "metadata": {},
   "outputs": [],
   "source": [
    "class tools:\n",
    "    @staticmethod\n",
    "    def divie_weighted (left, right, weights): #dzielenie znaków proporcjonalnie do długościw oparciu o wagi\n",
    "        sums = np.array(weights).cumsum()     # działa tak jak aggregate w itertools\n",
    "        #cumsum() kumuluje sumy z poprzednichelementów\n",
    "        fractions = np.insert(sums,0,0)/sums[-1]\n",
    "        return left + fractions * (right-left)\n",
    "    @staticmethod\n",
    "    def char_weights (string):\n",
    "        weights = {'m': 3, 'w': 3, 'l': 1,'i':1}\n",
    "        return [weights.get(char,2) for char in string]\n",
    "\n",
    "    @staticmethod\n",
    "    def to_left(array, x):\n",
    "        i = bisect.bisect_right(array, x)\n",
    "        return array[i-1] if i else None\n",
    "    \n",
    "    @staticmethod\n",
    "    def to_right(array, x):\n",
    "        'Find leftmost item greater than or equal to x'\n",
    "        i = bisect.bisect_left(a, x)\n",
    "        return a[i] if i != len(a) else None\n",
    "    \n",
    "    @staticmethod\n",
    "    def clamp(value, origin, limit = 0):\n",
    "        return (origin if limit and abs(value-origin) > limit else value)\n",
    "    @staticmethod\n",
    "    def clamped_dist (value,origin, limit = 0):\n",
    "        d = abs(value - origin)\n",
    "        return d if limit and d <= limit else np.inf\n",
    "    \n",
    "    @staticmethod\n",
    "    def closest(values, origin, limit = 0):\n",
    "        candidates = [tools.to_left(values, origin),\n",
    "                tools.to_left(values, origin)]\n",
    "        candidate = min(filter(lambda c: c is not None, candidates), key = lambda c: tools.clamped_dist(c, origin, limit))\n",
    "        return tools.clamp(candidate, origin, limit)\n",
    "    "
   ]
  },
  {
   "cell_type": "markdown",
   "metadata": {},
   "source": [
    "#  Coś w tym rejonie nie bangla"
   ]
  },
  {
   "cell_type": "code",
   "execution_count": 298,
   "metadata": {},
   "outputs": [
    {
     "ename": "ValueError",
     "evalue": "min() arg is an empty sequence",
     "output_type": "error",
     "traceback": [
      "\u001b[1;31m---------------------------------------------------------------------------\u001b[0m",
      "\u001b[1;31mValueError\u001b[0m                                Traceback (most recent call last)",
      "\u001b[1;32m<ipython-input-298-b86b80752e66>\u001b[0m in \u001b[0;36m<module>\u001b[1;34m\u001b[0m\n\u001b[0;32m      4\u001b[0m \u001b[1;32mfor\u001b[0m \u001b[0morigin\u001b[0m \u001b[1;32min\u001b[0m \u001b[0mscope\u001b[0m\u001b[1;33m:\u001b[0m\u001b[1;33m\u001b[0m\u001b[1;33m\u001b[0m\u001b[0m\n\u001b[0;32m      5\u001b[0m     \u001b[0mplt\u001b[0m\u001b[1;33m.\u001b[0m\u001b[0mscatter\u001b[0m\u001b[1;33m(\u001b[0m\u001b[0morigin\u001b[0m\u001b[1;33m,\u001b[0m \u001b[0morigin\u001b[0m\u001b[1;33m,\u001b[0m \u001b[0mc\u001b[0m\u001b[1;33m=\u001b[0m\u001b[1;34m'b'\u001b[0m\u001b[1;33m)\u001b[0m\u001b[1;33m\u001b[0m\u001b[1;33m\u001b[0m\u001b[0m\n\u001b[1;32m----> 6\u001b[1;33m     \u001b[0mclosest\u001b[0m \u001b[1;33m=\u001b[0m \u001b[0mtools\u001b[0m\u001b[1;33m.\u001b[0m\u001b[0mclosest\u001b[0m\u001b[1;33m(\u001b[0m\u001b[0marr\u001b[0m\u001b[1;33m,\u001b[0m\u001b[0morigin\u001b[0m\u001b[1;33m,\u001b[0m \u001b[0mlimit\u001b[0m\u001b[1;33m)\u001b[0m\u001b[1;33m\u001b[0m\u001b[1;33m\u001b[0m\u001b[0m\n\u001b[0m\u001b[0;32m      7\u001b[0m     \u001b[0mplt\u001b[0m\u001b[1;33m.\u001b[0m\u001b[0mscatter\u001b[0m\u001b[1;33m(\u001b[0m\u001b[0mclosest\u001b[0m\u001b[1;33m,\u001b[0m\u001b[0morigin\u001b[0m\u001b[1;33m,\u001b[0m \u001b[0mc\u001b[0m \u001b[1;33m=\u001b[0m\u001b[1;34m'r'\u001b[0m\u001b[1;33m)\u001b[0m\u001b[1;33m\u001b[0m\u001b[1;33m\u001b[0m\u001b[0m\n\u001b[0;32m      8\u001b[0m \u001b[1;32mfor\u001b[0m \u001b[0mx\u001b[0m \u001b[1;32min\u001b[0m \u001b[0marr\u001b[0m\u001b[1;33m:\u001b[0m\u001b[1;33m\u001b[0m\u001b[1;33m\u001b[0m\u001b[0m\n",
      "\u001b[1;32m<ipython-input-297-ef32de41eb26>\u001b[0m in \u001b[0;36mclosest\u001b[1;34m(values, origin, limit)\u001b[0m\n\u001b[0;32m     34\u001b[0m         candidates = [tools.to_left(values, origin),\n\u001b[0;32m     35\u001b[0m                 tools.to_left(values, origin)]\n\u001b[1;32m---> 36\u001b[1;33m         \u001b[0mcandidate\u001b[0m \u001b[1;33m=\u001b[0m \u001b[0mmin\u001b[0m\u001b[1;33m(\u001b[0m\u001b[0mfilter\u001b[0m\u001b[1;33m(\u001b[0m\u001b[1;32mlambda\u001b[0m \u001b[0mc\u001b[0m\u001b[1;33m:\u001b[0m \u001b[0mc\u001b[0m \u001b[1;32mis\u001b[0m \u001b[1;32mnot\u001b[0m \u001b[1;32mNone\u001b[0m\u001b[1;33m,\u001b[0m \u001b[0mcandidates\u001b[0m\u001b[1;33m)\u001b[0m\u001b[1;33m,\u001b[0m \u001b[0mkey\u001b[0m \u001b[1;33m=\u001b[0m \u001b[1;32mlambda\u001b[0m \u001b[0mc\u001b[0m\u001b[1;33m:\u001b[0m \u001b[0mtools\u001b[0m\u001b[1;33m.\u001b[0m\u001b[0mclamped_dist\u001b[0m\u001b[1;33m(\u001b[0m\u001b[0mc\u001b[0m\u001b[1;33m,\u001b[0m \u001b[0morigin\u001b[0m\u001b[1;33m,\u001b[0m \u001b[0mlimit\u001b[0m\u001b[1;33m)\u001b[0m\u001b[1;33m)\u001b[0m\u001b[1;33m\u001b[0m\u001b[1;33m\u001b[0m\u001b[0m\n\u001b[0m\u001b[0;32m     37\u001b[0m         \u001b[1;32mreturn\u001b[0m \u001b[0mtools\u001b[0m\u001b[1;33m.\u001b[0m\u001b[0mclamp\u001b[0m\u001b[1;33m(\u001b[0m\u001b[0mcandidate\u001b[0m\u001b[1;33m,\u001b[0m \u001b[0morigin\u001b[0m\u001b[1;33m,\u001b[0m \u001b[0mlimit\u001b[0m\u001b[1;33m)\u001b[0m\u001b[1;33m\u001b[0m\u001b[1;33m\u001b[0m\u001b[0m\n\u001b[0;32m     38\u001b[0m \u001b[1;33m\u001b[0m\u001b[0m\n",
      "\u001b[1;31mValueError\u001b[0m: min() arg is an empty sequence"
     ]
    },
    {
     "data": {
      "image/png": "[encoded data removed]",
      "text/plain": [
       "<Figure size 432x288 with 1 Axes>"
      ]
     },
     "metadata": {
      "needs_background": "light"
     },
     "output_type": "display_data"
    }
   ],
   "source": [
    "arr = [1,5,12,21,30]\n",
    "limit = 3\n",
    "scope = range(-5,40)\n",
    "for origin in scope:\n",
    "    plt.scatter(origin, origin, c='b')\n",
    "    closest = tools.closest(arr,origin, limit)\n",
    "    plt.scatter(closest,origin, c ='r')\n",
    "for x in arr:\n",
    "    plt.axvline()"
   ]
  },
  {
   "cell_type": "code",
   "execution_count": null,
   "metadata": {},
   "outputs": [],
   "source": [
    "w = [1, 2,1]\n",
    "tools.divie_weighted(10,50,w)"
   ]
  },
  {
   "cell_type": "code",
   "execution_count": 299,
   "metadata": {},
   "outputs": [
    {
     "data": {
      "text/plain": [
       "[3, 2, 2, 2, 2, 2, 3]"
      ]
     },
     "execution_count": 299,
     "metadata": {},
     "output_type": "execute_result"
    }
   ],
   "source": [
    "tools.char_weights('mnfhfkw')"
   ]
  },
  {
   "cell_type": "code",
   "execution_count": 300,
   "metadata": {},
   "outputs": [
    {
     "data": {
      "text/plain": [
       "array([0, 1, 3, 4], dtype=int32)"
      ]
     },
     "execution_count": 300,
     "metadata": {},
     "output_type": "execute_result"
    }
   ],
   "source": [
    "# jakiś przykład\n",
    "w = [1, 2,1]\n",
    "np.insert(np.array(w).cumsum(),0,0)"
   ]
  },
  {
   "cell_type": "code",
   "execution_count": 301,
   "metadata": {},
   "outputs": [
    {
     "ename": "SyntaxError",
     "evalue": "invalid syntax (<ipython-input-301-4503656f5724>, line 25)",
     "output_type": "error",
     "traceback": [
      "\u001b[1;36m  File \u001b[1;32m\"<ipython-input-301-4503656f5724>\"\u001b[1;36m, line \u001b[1;32m25\u001b[0m\n\u001b[1;33m    edges[1:5] = [tools.closest(light_peaks origin, limit)\u001b[0m\n\u001b[1;37m                                                 ^\u001b[0m\n\u001b[1;31mSyntaxError\u001b[0m\u001b[1;31m:\u001b[0m invalid syntax\n"
     ]
    }
   ],
   "source": [
    "class Slicer:\n",
    "    def __init__(self, paths):\n",
    "        self.paths = list(paths)\n",
    "        \n",
    "    # wszystkie nazwy które występują w przestrzeni nazwy klasy mogą mieć dowolne nazwy\n",
    "    \n",
    "    # do wywołanie tej metody nie jest potrzebny parametr self \n",
    "    @staticmethod      # nie ma nic wspolnego z prywatonścią                 \n",
    "    def _find_edges( imagepath):\n",
    "        \n",
    "        image = PIL.Image.open(imagepath)\n",
    "        pixels = np.array(img.convert('1', dither = PIL.Image.NONE)) # nie potrzeba obrazka yulko siatkę pixeli czyli tablicę numpy\n",
    "        columns = (~pixels).sum(axis =0)\n",
    "        \n",
    "        _, dark_props = find_peaks(columns, prominence =10, width=5, rel_height =0.9) # peaks nie są potrzebne więc nie nazywany\n",
    "        right_edge = max(dark_props['right_ips'])\n",
    "        left_edge = 28 # te obrazki zawsze zaczynają się w tym samym miejscu\n",
    "        \n",
    "        edges = tools.divie_weighted(left_edge, right_edge, tools.char_weights(imagepath.stem))\n",
    "        # stem wycina nazwę pliku ze ścieżki\n",
    "        \n",
    "        light_peaks, _ = find_peaks(-columns, prominence = 5)# wyśrodkowanie kresek dzielących litery\n",
    "        \n",
    "        limit = (right_edge - left_edge) * 0.04\n",
    "        edges[1:5] = [tools.closest(light_peaks origin, limit)\n",
    "                          for origin in edges[1:5]]\n",
    "        \n",
    "        return edges\n",
    "        "
   ]
  },
  {
   "cell_type": "code",
   "execution_count": 302,
   "metadata": {
    "scrolled": true
   },
   "outputs": [],
   "source": [
    "# img.convert('1', dither = PIL.Image.NONE) # usówanie tła"
   ]
  },
  {
   "cell_type": "code",
   "execution_count": 303,
   "metadata": {
    "scrolled": true
   },
   "outputs": [],
   "source": [
    "# zamiast liczyć wszystko powinno liczyć wszystko w osiach\n",
    "# (~arr).sum(axis=0) # negujemy tablicę zaw. bool żeby zliczała ilość czarnych pikseli (cześnie zlioczała białe)"
   ]
  },
  {
   "cell_type": "code",
   "execution_count": 304,
   "metadata": {},
   "outputs": [],
   "source": [
    "# szukamy prawego brzegu linii w której gwałtownie rośnie ilość pikseli czarnych\n",
    "\n",
    "# peaks, props = find_peaks(columns, prominence =10, width=5, rel_height =0.9) \n",
    "# rel_height - mierzenie wysokości nie na zamym podłożu (jak drzewa)\n",
    "# prominence (wyniosłość lokalnego szczytu nad otoczenie)\n",
    "# szuka szczytów o 10 pixeli wyżej niż podłoże"
   ]
  },
  {
   "cell_type": "markdown",
   "metadata": {},
   "source": [
    "slicer = Slicer(captchas())\n",
    "path = random_captcha()\n",
    "edges, peaks = slicer._find_edges(path)\n",
    "pixels = np.array(PIL.Image.open(path))[:, :, 0] >= 128 # lub[..., 0]\n",
    "columns = (~pixels).sum(axis = 0)"
   ]
  },
  {
   "cell_type": "markdown",
   "metadata": {},
   "source": [
    "plt.imshow(pixels, cmap='gray') # wyrysowanie siatki pixeli\n",
    "plt.plot(columns)\n",
    "#plt.scatter(peaks, columns[peaks], c='r')\n",
    "for x in edges:\n",
    "    plt.axvline(x, c='r')\n",
    "plt.scatter(peaks, columns[peaks], c=(0,1.0,0))\n",
    "      # rysuje linie pionowe w punktach które są prawymi podnóżami szczytów"
   ]
  },
  {
   "cell_type": "code",
   "execution_count": 305,
   "metadata": {},
   "outputs": [
    {
     "ename": "NameError",
     "evalue": "name 'light_peak' is not defined",
     "output_type": "error",
     "traceback": [
      "\u001b[1;31m---------------------------------------------------------------------------\u001b[0m",
      "\u001b[1;31mNameError\u001b[0m                                 Traceback (most recent call last)",
      "\u001b[1;32m<ipython-input-305-8cace983bda7>\u001b[0m in \u001b[0;36m<module>\u001b[1;34m\u001b[0m\n\u001b[0;32m      1\u001b[0m \u001b[0mslicer\u001b[0m \u001b[1;33m=\u001b[0m \u001b[0mSlicer\u001b[0m\u001b[1;33m(\u001b[0m\u001b[0mcaptchas\u001b[0m\u001b[1;33m(\u001b[0m\u001b[1;33m)\u001b[0m\u001b[1;33m)\u001b[0m\u001b[1;33m\u001b[0m\u001b[1;33m\u001b[0m\u001b[0m\n\u001b[0;32m      2\u001b[0m \u001b[0mpath\u001b[0m \u001b[1;33m=\u001b[0m \u001b[0mrandom_captcha\u001b[0m\u001b[1;33m(\u001b[0m\u001b[1;33m)\u001b[0m\u001b[1;33m\u001b[0m\u001b[1;33m\u001b[0m\u001b[0m\n\u001b[1;32m----> 3\u001b[1;33m \u001b[0medges\u001b[0m\u001b[1;33m,\u001b[0m \u001b[0mpeaks\u001b[0m \u001b[1;33m=\u001b[0m \u001b[0mslicer\u001b[0m\u001b[1;33m.\u001b[0m\u001b[0m_find_edges\u001b[0m\u001b[1;33m(\u001b[0m\u001b[0mpath\u001b[0m\u001b[1;33m)\u001b[0m\u001b[1;33m\u001b[0m\u001b[1;33m\u001b[0m\u001b[0m\n\u001b[0m\u001b[0;32m      4\u001b[0m \u001b[0mpixels\u001b[0m \u001b[1;33m=\u001b[0m \u001b[0mnp\u001b[0m\u001b[1;33m.\u001b[0m\u001b[0marray\u001b[0m\u001b[1;33m(\u001b[0m\u001b[0mPIL\u001b[0m\u001b[1;33m.\u001b[0m\u001b[0mImage\u001b[0m\u001b[1;33m.\u001b[0m\u001b[0mopen\u001b[0m\u001b[1;33m(\u001b[0m\u001b[0mpath\u001b[0m\u001b[1;33m)\u001b[0m\u001b[1;33m)\u001b[0m\u001b[1;33m[\u001b[0m\u001b[1;33m:\u001b[0m\u001b[1;33m,\u001b[0m\u001b[1;33m:\u001b[0m\u001b[1;33m,\u001b[0m\u001b[1;36m0\u001b[0m\u001b[1;33m]\u001b[0m \u001b[1;33m>=\u001b[0m \u001b[1;36m128\u001b[0m\u001b[1;33m\u001b[0m\u001b[1;33m\u001b[0m\u001b[0m\n\u001b[0;32m      5\u001b[0m \u001b[0mcolumns\u001b[0m \u001b[1;33m=\u001b[0m \u001b[1;33m(\u001b[0m\u001b[1;33m~\u001b[0m\u001b[0mpixels\u001b[0m\u001b[1;33m)\u001b[0m\u001b[1;33m.\u001b[0m\u001b[0msum\u001b[0m\u001b[1;33m(\u001b[0m\u001b[0maxis\u001b[0m\u001b[1;33m=\u001b[0m\u001b[1;36m0\u001b[0m\u001b[1;33m)\u001b[0m\u001b[1;33m\u001b[0m\u001b[1;33m\u001b[0m\u001b[0m\n",
      "\u001b[1;32m<ipython-input-265-23474550e26d>\u001b[0m in \u001b[0;36m_find_edges\u001b[1;34m(imagepath)\u001b[0m\n\u001b[0;32m     24\u001b[0m         \u001b[0mlimit\u001b[0m \u001b[1;33m=\u001b[0m \u001b[1;33m(\u001b[0m\u001b[0mright_edge\u001b[0m \u001b[1;33m-\u001b[0m \u001b[0mleft_edge\u001b[0m\u001b[1;33m)\u001b[0m \u001b[1;33m*\u001b[0m \u001b[1;36m0.04\u001b[0m\u001b[1;33m\u001b[0m\u001b[1;33m\u001b[0m\u001b[0m\n\u001b[0;32m     25\u001b[0m         edges[1:5] = [tools.closest(light_peak, origin, limit)\n\u001b[1;32m---> 26\u001b[1;33m                           for origin in edges[1:5]]\n\u001b[0m\u001b[0;32m     27\u001b[0m \u001b[1;33m\u001b[0m\u001b[0m\n\u001b[0;32m     28\u001b[0m         \u001b[1;32mreturn\u001b[0m \u001b[0medges\u001b[0m\u001b[1;33m,\u001b[0m \u001b[0mlight_peaks\u001b[0m\u001b[1;33m\u001b[0m\u001b[1;33m\u001b[0m\u001b[0m\n",
      "\u001b[1;32m<ipython-input-265-23474550e26d>\u001b[0m in \u001b[0;36m<listcomp>\u001b[1;34m(.0)\u001b[0m\n\u001b[0;32m     24\u001b[0m         \u001b[0mlimit\u001b[0m \u001b[1;33m=\u001b[0m \u001b[1;33m(\u001b[0m\u001b[0mright_edge\u001b[0m \u001b[1;33m-\u001b[0m \u001b[0mleft_edge\u001b[0m\u001b[1;33m)\u001b[0m \u001b[1;33m*\u001b[0m \u001b[1;36m0.04\u001b[0m\u001b[1;33m\u001b[0m\u001b[1;33m\u001b[0m\u001b[0m\n\u001b[0;32m     25\u001b[0m         edges[1:5] = [tools.closest(light_peak, origin, limit)\n\u001b[1;32m---> 26\u001b[1;33m                           for origin in edges[1:5]]\n\u001b[0m\u001b[0;32m     27\u001b[0m \u001b[1;33m\u001b[0m\u001b[0m\n\u001b[0;32m     28\u001b[0m         \u001b[1;32mreturn\u001b[0m \u001b[0medges\u001b[0m\u001b[1;33m,\u001b[0m \u001b[0mlight_peaks\u001b[0m\u001b[1;33m\u001b[0m\u001b[1;33m\u001b[0m\u001b[0m\n",
      "\u001b[1;31mNameError\u001b[0m: name 'light_peak' is not defined"
     ]
    }
   ],
   "source": [
    "slicer = Slicer(captchas())\n",
    "path = random_captcha()\n",
    "edges, peaks = slicer._find_edges(path)\n",
    "pixels = np.array(PIL.Image.open(path))[:,:,0] >= 128\n",
    "columns = (~pixels).sum(axis=0)"
   ]
  },
  {
   "cell_type": "code",
   "execution_count": 306,
   "metadata": {},
   "outputs": [
    {
     "name": "stderr",
     "output_type": "stream",
     "text": [
      "'c' argument looks like a single numeric RGB or RGBA sequence, which should be avoided as value-mapping will have precedence in case its length matches with 'x' & 'y'.  Please use a 2-D array with a single row if you really want to specify the same RGB or RGBA value for all points.\n"
     ]
    },
    {
     "data": {
      "image/png": "[encoded data removed]",
      "text/plain": [
       "<Figure size 432x288 with 1 Axes>"
      ]
     },
     "metadata": {
      "needs_background": "light"
     },
     "output_type": "display_data"
    }
   ],
   "source": [
    "plt.imshow(pixels, cmap=\"gray\")\n",
    "plt.plot(columns)\n",
    "\n",
    "for x in edges:\n",
    "    plt.axvline(x, c=\"yellow\")\n",
    "plt.scatter(peaks, columns[peaks], c=(0,1,0))\n",
    "plt.show()"
   ]
  },
  {
   "cell_type": "code",
   "execution_count": null,
   "metadata": {},
   "outputs": [],
   "source": []
  },
  {
   "cell_type": "code",
   "execution_count": null,
   "metadata": {},
   "outputs": [],
   "source": []
  },
  {
   "cell_type": "code",
   "execution_count": null,
   "metadata": {},
   "outputs": [],
   "source": []
  },
  {
   "cell_type": "code",
   "execution_count": null,
   "metadata": {},
   "outputs": [],
   "source": []
  },
  {
   "cell_type": "code",
   "execution_count": null,
   "metadata": {},
   "outputs": [],
   "source": []
  }
 ],
 "metadata": {
  "kernelspec": {
   "display_name": "Python 3",
   "language": "python",
   "name": "python3"
  },
  "language_info": {
   "codemirror_mode": {
    "name": "ipython",
    "version": 3
   },
   "file_extension": ".py",
   "mimetype": "text/x-python",
   "name": "python",
   "nbconvert_exporter": "python",
   "pygments_lexer": "ipython3",
   "version": "3.7.3"
  }
 },
 "nbformat": 4,
 "nbformat_minor": 2
}
