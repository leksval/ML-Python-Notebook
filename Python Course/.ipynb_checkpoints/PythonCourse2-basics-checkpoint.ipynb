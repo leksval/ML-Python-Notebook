{
 "cells": [
  {
   "cell_type": "markdown",
   "metadata": {},
   "source": [
    "# Podstawy języka Python 2/2"
   ]
  },
  {
   "cell_type": "code",
   "execution_count": 1,
   "metadata": {},
   "outputs": [],
   "source": [
    "basic_prefixes = [None, 'mono', 'do', 'tri', 'tetra', 'penta',\n",
    "                 'hexa', 'hepta', 'octa', 'ennea']"
   ]
  },
  {
   "cell_type": "code",
   "execution_count": 2,
   "metadata": {},
   "outputs": [
    {
     "data": {
      "text/plain": [
       "10"
      ]
     },
     "execution_count": 2,
     "metadata": {},
     "output_type": "execute_result"
    }
   ],
   "source": [
    "# długość listy:\n",
    "len(basic_prefixes) "
   ]
  },
  {
   "cell_type": "code",
   "execution_count": 3,
   "metadata": {},
   "outputs": [
    {
     "name": "stdout",
     "output_type": "stream",
     "text": [
      "None mono do tri tetra penta hexa hepta octa ennea "
     ]
    }
   ],
   "source": [
    "for prefix in basic_prefixes:\n",
    "    print(prefix, end=' ')\n",
    "    prefix = 'x'"
   ]
  },
  {
   "cell_type": "code",
   "execution_count": 4,
   "metadata": {},
   "outputs": [
    {
     "data": {
      "text/plain": [
       "'hen'"
      ]
     },
     "execution_count": 4,
     "metadata": {},
     "output_type": "execute_result"
    }
   ],
   "source": [
    "basic_prefixes[1] = 'hen' #to nie jest zwykla operacja przypisania jak np. w C++\n",
    "basic_prefixes[1]"
   ]
  },
  {
   "cell_type": "code",
   "execution_count": 5,
   "metadata": {},
   "outputs": [
    {
     "data": {
      "text/plain": [
       "[None, 'hen', 'do', 'tri', 'tetra', 'penta', 'hexa', 'hepta', 'octa', 'ennea']"
      ]
     },
     "execution_count": 5,
     "metadata": {},
     "output_type": "execute_result"
    }
   ],
   "source": [
    "basic_prefixes"
   ]
  },
  {
   "cell_type": "code",
   "execution_count": 6,
   "metadata": {},
   "outputs": [
    {
     "data": {
      "text/plain": [
       "['tri', 'tetra', 'penta', 'hexa']"
      ]
     },
     "execution_count": 6,
     "metadata": {},
     "output_type": "execute_result"
    }
   ],
   "source": [
    "basic_prefixes[3:7]"
   ]
  },
  {
   "cell_type": "code",
   "execution_count": 7,
   "metadata": {},
   "outputs": [
    {
     "data": {
      "text/plain": [
       "['tri', 'tetra', 'penta', 'hexa']"
      ]
     },
     "execution_count": 7,
     "metadata": {},
     "output_type": "execute_result"
    }
   ],
   "source": [
    "basic_prefixes[3:5] + basic_prefixes[5:7]"
   ]
  },
  {
   "cell_type": "code",
   "execution_count": 8,
   "metadata": {},
   "outputs": [
    {
     "data": {
      "text/plain": [
       "['tri', 'penta', 'hepta']"
      ]
     },
     "execution_count": 8,
     "metadata": {},
     "output_type": "execute_result"
    }
   ],
   "source": [
    "basic_prefixes[3:9:2] \n",
    "# od(inckuded) : do(excluded) :  krok"
   ]
  },
  {
   "cell_type": "code",
   "execution_count": 9,
   "metadata": {},
   "outputs": [
    {
     "data": {
      "text/plain": [
       "[None, 'hen', 'do', 'tri', 'tetra', 'penta', 'hexa', 'hepta']"
      ]
     },
     "execution_count": 9,
     "metadata": {},
     "output_type": "execute_result"
    }
   ],
   "source": [
    "basic_prefixes[:8:]"
   ]
  },
  {
   "cell_type": "code",
   "execution_count": 10,
   "metadata": {},
   "outputs": [
    {
     "data": {
      "text/plain": [
       "['tri', 'tetra', 'penta', 'hexa', 'hepta', 'octa', 'ennea']"
      ]
     },
     "execution_count": 10,
     "metadata": {},
     "output_type": "execute_result"
    }
   ],
   "source": [
    "basic_prefixes[3::]"
   ]
  },
  {
   "cell_type": "code",
   "execution_count": 11,
   "metadata": {},
   "outputs": [
    {
     "data": {
      "text/plain": [
       "[None, 'hen', 'do', 'tri', 'tetra', 'penta', 'hexa', 'hepta', 'octa', 'ennea']"
      ]
     },
     "execution_count": 11,
     "metadata": {},
     "output_type": "execute_result"
    }
   ],
   "source": [
    "basic_prefixes[:] \n",
    "# przydatne gdy trzeba podać slice, ale nie chce się niczego tracić z zakresu"
   ]
  },
  {
   "cell_type": "code",
   "execution_count": 12,
   "metadata": {},
   "outputs": [
    {
     "data": {
      "text/plain": [
       "'ennea'"
      ]
     },
     "execution_count": 12,
     "metadata": {},
     "output_type": "execute_result"
    }
   ],
   "source": [
    "# numer indeksu, ujemne odliczając od końca:\n",
    "basic_prefixes[-1] "
   ]
  },
  {
   "cell_type": "code",
   "execution_count": 13,
   "metadata": {},
   "outputs": [],
   "source": [
    "basic_prefixes[-10] \n",
    "# nie wydrukowal sie bo to None"
   ]
  },
  {
   "cell_type": "code",
   "execution_count": 14,
   "metadata": {},
   "outputs": [
    {
     "data": {
      "text/plain": [
       "[None, 'hen', 'do', 'tri', 'tetra', 'penta', 'hexa', 'hepta', 'octa']"
      ]
     },
     "execution_count": 14,
     "metadata": {},
     "output_type": "execute_result"
    }
   ],
   "source": [
    "basic_prefixes[:-1:]"
   ]
  },
  {
   "cell_type": "code",
   "execution_count": 15,
   "metadata": {},
   "outputs": [
    {
     "data": {
      "text/plain": [
       "['ennea']"
      ]
     },
     "execution_count": 15,
     "metadata": {},
     "output_type": "execute_result"
    }
   ],
   "source": [
    "basic_prefixes[-1::]"
   ]
  },
  {
   "cell_type": "code",
   "execution_count": 16,
   "metadata": {},
   "outputs": [
    {
     "data": {
      "text/plain": [
       "['octa', 'hepta', 'hexa', 'penta', 'tetra', 'tri', 'do', 'hen', None]"
      ]
     },
     "execution_count": 16,
     "metadata": {},
     "output_type": "execute_result"
    }
   ],
   "source": [
    "basic_prefixes[-2::-1] # krok ujemny odlicza w drugą stronę"
   ]
  },
  {
   "cell_type": "code",
   "execution_count": 17,
   "metadata": {},
   "outputs": [
    {
     "data": {
      "text/plain": [
       "['ennea', 'octa', 'hepta', 'hexa', 'penta', 'tetra', 'tri', 'do', 'hen', None]"
      ]
     },
     "execution_count": 17,
     "metadata": {},
     "output_type": "execute_result"
    }
   ],
   "source": [
    "# sposób na odwracanie listy w pythonie:\n",
    "basic_prefixes[::-1] "
   ]
  },
  {
   "cell_type": "code",
   "execution_count": 18,
   "metadata": {},
   "outputs": [
    {
     "data": {
      "text/plain": [
       "[None, 'hen', 2, 3, 4, 5, 6, 7, 8, 9, 'hexa', 'hepta', 'octa', 'ennea']"
      ]
     },
     "execution_count": 18,
     "metadata": {},
     "output_type": "execute_result"
    }
   ],
   "source": [
    "basic_prefixes[2:6] = [2, 3, 4, 5, 6, 7, 8, 9]\n",
    "basic_prefixes"
   ]
  },
  {
   "cell_type": "code",
   "execution_count": 19,
   "metadata": {},
   "outputs": [
    {
     "data": {
      "text/plain": [
       "[None, 'hen', 'hexa', 'hepta', 'octa', 'ennea']"
      ]
     },
     "execution_count": 19,
     "metadata": {},
     "output_type": "execute_result"
    }
   ],
   "source": [
    "basic_prefixes[2:10] = []\n",
    "basic_prefixes"
   ]
  },
  {
   "cell_type": "code",
   "execution_count": 20,
   "metadata": {},
   "outputs": [
    {
     "data": {
      "text/plain": [
       "[None, 'hen', 'do', 'tri', 'tetra', 'penta', 'hexa', 'hepta', 'octa', 'ennea']"
      ]
     },
     "execution_count": 20,
     "metadata": {},
     "output_type": "execute_result"
    }
   ],
   "source": [
    "basic_prefixes[2:2] = ['do', 'tri', 'tetra', 'penta']\n",
    "basic_prefixes"
   ]
  },
  {
   "cell_type": "code",
   "execution_count": 21,
   "metadata": {},
   "outputs": [
    {
     "data": {
      "text/plain": [
       "10"
      ]
     },
     "execution_count": 21,
     "metadata": {},
     "output_type": "execute_result"
    }
   ],
   "source": [
    "len(basic_prefixes)"
   ]
  },
  {
   "cell_type": "code",
   "execution_count": 22,
   "metadata": {},
   "outputs": [
    {
     "name": "stdout",
     "output_type": "stream",
     "text": [
      "0\n",
      "1\n",
      "2\n",
      "3\n",
      "4\n",
      "5\n",
      "6\n",
      "7\n",
      "8\n",
      "9\n"
     ]
    }
   ],
   "source": [
    "for item in range(len(basic_prefixes)):\n",
    "    print(item)"
   ]
  },
  {
   "cell_type": "code",
   "execution_count": 23,
   "metadata": {},
   "outputs": [
    {
     "name": "stdout",
     "output_type": "stream",
     "text": [
      "(0, None)\n",
      "(1, 'hen')\n",
      "(2, 'do')\n",
      "(3, 'tri')\n",
      "(4, 'tetra')\n",
      "(5, 'penta')\n",
      "(6, 'hexa')\n",
      "(7, 'hepta')\n",
      "(8, 'octa')\n",
      "(9, 'ennea')\n"
     ]
    }
   ],
   "source": [
    "for item in enumerate(basic_prefixes):\n",
    "    print(item)"
   ]
  },
  {
   "cell_type": "code",
   "execution_count": 24,
   "metadata": {},
   "outputs": [
    {
     "name": "stdout",
     "output_type": "stream",
     "text": [
      "None\n",
      "hen\n",
      "do\n",
      "tri\n",
      "tetra\n",
      "penta\n",
      "hexa\n",
      "hepta\n",
      "octa\n",
      "ennea\n"
     ]
    }
   ],
   "source": [
    "for i, prefix in enumerate(basic_prefixes):\n",
    "    print(prefix)"
   ]
  },
  {
   "cell_type": "code",
   "execution_count": 25,
   "metadata": {},
   "outputs": [
    {
     "name": "stdout",
     "output_type": "stream",
     "text": [
      "1: hen-\n",
      "6: hexa-\n",
      "7: hepta-\n"
     ]
    }
   ],
   "source": [
    "#for i, prefix in enumerate(basic_prefixes):\n",
    "    #if prefix.startswith('h'):\n",
    "        #print(f'{i}: {prefix}-') #psuje nam to None w zerowym polu\n",
    "\n",
    "for i, prefix in enumerate(basic_prefixes):\n",
    "    if (prefix or '').startswith('h'):\n",
    "        print(f'{i}: {prefix}-') "
   ]
  },
  {
   "cell_type": "code",
   "execution_count": 26,
   "metadata": {},
   "outputs": [
    {
     "data": {
      "text/plain": [
       "['deca',\n",
       " 'hendeca',\n",
       " 'dodeca',\n",
       " 'trideca',\n",
       " 'tetradeca',\n",
       " 'pentadeca',\n",
       " 'hexadeca',\n",
       " 'heptadeca',\n",
       " 'octadeca',\n",
       " 'enneadeca']"
      ]
     },
     "execution_count": 26,
     "metadata": {},
     "output_type": "execute_result"
    }
   ],
   "source": [
    "more_prefixes = [\n",
    "    (prefix or '') + 'deca'\n",
    "    for prefix in basic_prefixes\n",
    "]\n",
    "more_prefixes"
   ]
  },
  {
   "cell_type": "code",
   "execution_count": 27,
   "metadata": {},
   "outputs": [],
   "source": [
    "prefixes = basic_prefixes + more_prefixes + 80*['poly']"
   ]
  },
  {
   "cell_type": "code",
   "execution_count": 28,
   "metadata": {},
   "outputs": [
    {
     "data": {
      "text/plain": [
       "100"
      ]
     },
     "execution_count": 28,
     "metadata": {},
     "output_type": "execute_result"
    }
   ],
   "source": [
    "len(prefixes)"
   ]
  },
  {
   "cell_type": "code",
   "execution_count": 29,
   "metadata": {},
   "outputs": [
    {
     "data": {
      "text/plain": [
       "['poly', 'poly', 'poly', 'poly', 'poly']"
      ]
     },
     "execution_count": 29,
     "metadata": {},
     "output_type": "execute_result"
    }
   ],
   "source": [
    "prefixes[-5:]"
   ]
  },
  {
   "cell_type": "code",
   "execution_count": 30,
   "metadata": {},
   "outputs": [],
   "source": [
    "del prefixes[21:]"
   ]
  },
  {
   "cell_type": "code",
   "execution_count": 31,
   "metadata": {},
   "outputs": [
    {
     "data": {
      "text/plain": [
       "21"
      ]
     },
     "execution_count": 31,
     "metadata": {},
     "output_type": "execute_result"
    }
   ],
   "source": [
    "len(prefixes)"
   ]
  },
  {
   "cell_type": "code",
   "execution_count": 32,
   "metadata": {},
   "outputs": [
    {
     "name": "stdout",
     "output_type": "stream",
     "text": [
      "[None, 'hen', 'do', 'tri', 'tetra', 'penta', 'hexa', 'hepta', 'octa', 'ennea', 'deca', 'hendeca', 'dodeca', 'trideca', 'tetradeca', 'pentadeca', 'hexadeca', 'heptadeca', 'octadeca', 'enneadeca', 'poly']\n"
     ]
    }
   ],
   "source": [
    "print(prefixes)"
   ]
  },
  {
   "cell_type": "code",
   "execution_count": 33,
   "metadata": {},
   "outputs": [
    {
     "data": {
      "text/plain": [
       "[]"
      ]
     },
     "execution_count": 33,
     "metadata": {},
     "output_type": "execute_result"
    }
   ],
   "source": [
    "prefixes[1000:2000]"
   ]
  },
  {
   "cell_type": "code",
   "execution_count": 34,
   "metadata": {},
   "outputs": [
    {
     "data": {
      "text/plain": [
       "['deca',\n",
       " 'hendeca',\n",
       " 'dodeca',\n",
       " 'trideca',\n",
       " 'tetradeca',\n",
       " 'pentadeca',\n",
       " 'hexadeca',\n",
       " 'heptadeca',\n",
       " 'octadeca',\n",
       " 'enneadeca',\n",
       " 'poly']"
      ]
     },
     "execution_count": 34,
     "metadata": {},
     "output_type": "execute_result"
    }
   ],
   "source": [
    "prefixes[10:2000]"
   ]
  },
  {
   "cell_type": "code",
   "execution_count": 35,
   "metadata": {},
   "outputs": [
    {
     "data": {
      "text/plain": [
       "True"
      ]
     },
     "execution_count": 35,
     "metadata": {},
     "output_type": "execute_result"
    }
   ],
   "source": [
    "'poly' in prefixes"
   ]
  },
  {
   "cell_type": "code",
   "execution_count": 36,
   "metadata": {},
   "outputs": [
    {
     "data": {
      "text/plain": [
       "20"
      ]
     },
     "execution_count": 36,
     "metadata": {},
     "output_type": "execute_result"
    }
   ],
   "source": [
    "prefixes.index('poly')"
   ]
  },
  {
   "cell_type": "code",
   "execution_count": 37,
   "metadata": {},
   "outputs": [
    {
     "data": {
      "text/plain": [
       "'poly'"
      ]
     },
     "execution_count": 37,
     "metadata": {},
     "output_type": "execute_result"
    }
   ],
   "source": [
    "last = prefixes.pop()\n",
    "last"
   ]
  },
  {
   "cell_type": "code",
   "execution_count": 38,
   "metadata": {},
   "outputs": [],
   "source": [
    "prefixes.append('eikosa') #append nic nie zwraca"
   ]
  },
  {
   "cell_type": "code",
   "execution_count": 39,
   "metadata": {},
   "outputs": [
    {
     "name": "stdout",
     "output_type": "stream",
     "text": [
      "[None, 'hen', 'do', 'tri', 'tetra', 'penta', 'hexa', 'hepta', 'octa', 'ennea', 'deca', 'hendeca', 'dodeca', 'trideca', 'tetradeca', 'pentadeca', 'hexadeca', 'heptadeca', 'octadeca', 'enneadeca', 'eikosa']\n"
     ]
    }
   ],
   "source": [
    "print(prefixes)"
   ]
  },
  {
   "cell_type": "code",
   "execution_count": 41,
   "metadata": {},
   "outputs": [],
   "source": [
    "birds_observed = [None, [], 12, [30, 24], [43, 32, 58], '26', (12,34)] # problem chaotycznych typów danych dygresja do Data Science"
   ]
  },
  {
   "cell_type": "code",
   "execution_count": 59,
   "metadata": {},
   "outputs": [],
   "source": [
    "def mean_flock_size(month, observations):\n",
    "    try:\n",
    "        return sum(observations[month])/ len (observations[month])\n",
    "    except (IndexError, ZeroDivisionError):\n",
    "        return 0\n",
    "    except TypeError:\n",
    "        try:    \n",
    "            return float(observations[month])\n",
    "        except:\n",
    "            return 0"
   ]
  },
  {
   "cell_type": "code",
   "execution_count": 60,
   "metadata": {},
   "outputs": [
    {
     "data": {
      "text/plain": [
       "0"
      ]
     },
     "execution_count": 60,
     "metadata": {},
     "output_type": "execute_result"
    }
   ],
   "source": [
    "mean_flock_size(1, birds_observed)"
   ]
  },
  {
   "cell_type": "code",
   "execution_count": 61,
   "metadata": {},
   "outputs": [
    {
     "data": {
      "text/plain": [
       "[0, 0, 12.0, 27.0, 44.333333333333336, 26.0, 23.0, 0, 0, 0, 0, 0]"
      ]
     },
     "execution_count": 61,
     "metadata": {},
     "output_type": "execute_result"
    }
   ],
   "source": [
    "[mean_flock_size(m, birds_observed) for m in range(12)]"
   ]
  },
  {
   "cell_type": "code",
   "execution_count": null,
   "metadata": {},
   "outputs": [],
   "source": []
  },
  {
   "cell_type": "code",
   "execution_count": 64,
   "metadata": {},
   "outputs": [],
   "source": [
    "polyhedra = {4 : 'tetrahedron', 5: 'petahedron', 6: 'hexahedron'} \n",
    "#dictionaary {key, value}, klucz musi być niemutowalny"
   ]
  },
  {
   "cell_type": "code",
   "execution_count": 65,
   "metadata": {},
   "outputs": [],
   "source": [
    "things = {'4': 'four', (1, 2): 'two', print: 'print'} \n",
    "# listyjako klucze w slowniku odpadają, bo można je zmienić, zamiast tego stosuje się krotki"
   ]
  },
  {
   "cell_type": "code",
   "execution_count": 67,
   "metadata": {},
   "outputs": [],
   "source": [
    "polyhedra[4] = 'cube'"
   ]
  },
  {
   "cell_type": "code",
   "execution_count": 68,
   "metadata": {},
   "outputs": [
    {
     "data": {
      "text/plain": [
       "{4: 'cube', 5: 'petahedron', 6: 'hexahedron'}"
      ]
     },
     "execution_count": 68,
     "metadata": {},
     "output_type": "execute_result"
    }
   ],
   "source": [
    "polyhedra"
   ]
  },
  {
   "cell_type": "code",
   "execution_count": 69,
   "metadata": {},
   "outputs": [
    {
     "ename": "SyntaxError",
     "evalue": "invalid syntax (<ipython-input-69-ea16fd7cb7f4>, line 1)",
     "output_type": "error",
     "traceback": [
      "\u001b[1;36m  File \u001b[1;32m\"<ipython-input-69-ea16fd7cb7f4>\"\u001b[1;36m, line \u001b[1;32m1\u001b[0m\n\u001b[1;33m    polyhedra[] # w słowniku nie można szukać elementów których nie ma\u001b[0m\n\u001b[1;37m              ^\u001b[0m\n\u001b[1;31mSyntaxError\u001b[0m\u001b[1;31m:\u001b[0m invalid syntax\n"
     ]
    }
   ],
   "source": [
    "polyhedra[42] \n",
    "# w słowniku nie można szukać kluczy których nie ma"
   ]
  },
  {
   "cell_type": "code",
   "execution_count": 70,
   "metadata": {},
   "outputs": [
    {
     "data": {
      "text/plain": [
       "False"
      ]
     },
     "execution_count": 70,
     "metadata": {},
     "output_type": "execute_result"
    }
   ],
   "source": [
    "42 in polyhedra"
   ]
  },
  {
   "cell_type": "code",
   "execution_count": 71,
   "metadata": {},
   "outputs": [],
   "source": [
    "polyhedra[42] = 'costamcube'"
   ]
  },
  {
   "cell_type": "code",
   "execution_count": 72,
   "metadata": {},
   "outputs": [
    {
     "data": {
      "text/plain": [
       "'costamcube'"
      ]
     },
     "execution_count": 72,
     "metadata": {},
     "output_type": "execute_result"
    }
   ],
   "source": [
    "polyhedra[42]"
   ]
  },
  {
   "cell_type": "code",
   "execution_count": 77,
   "metadata": {},
   "outputs": [
    {
     "name": "stdout",
     "output_type": "stream",
     "text": [
      "costamcube\n"
     ]
    }
   ],
   "source": [
    "print(polyhedra.get(99, 'costamcube')) # zwraca (None, lub default value) jeśli nie ma klucza \n",
    "#operacja get nie modyfikuje słownika"
   ]
  },
  {
   "cell_type": "code",
   "execution_count": 79,
   "metadata": {},
   "outputs": [
    {
     "data": {
      "text/plain": [
       "'costamcube'"
      ]
     },
     "execution_count": 79,
     "metadata": {},
     "output_type": "execute_result"
    }
   ],
   "source": [
    "polyhedra.setdefault(99, 'costamcube') \n",
    "# dodaje wartość do słownika"
   ]
  },
  {
   "cell_type": "code",
   "execution_count": 81,
   "metadata": {},
   "outputs": [],
   "source": [
    "POLYHEDRA = {\n",
    "    n: prefixes[n] + 'hedrons'\n",
    "    for n in range(1, 21)\n",
    "}"
   ]
  },
  {
   "cell_type": "code",
   "execution_count": 82,
   "metadata": {},
   "outputs": [
    {
     "data": {
      "text/plain": [
       "{1: 'henhedrons',\n",
       " 2: 'dohedrons',\n",
       " 3: 'trihedrons',\n",
       " 4: 'tetrahedrons',\n",
       " 5: 'pentahedrons',\n",
       " 6: 'hexahedrons',\n",
       " 7: 'heptahedrons',\n",
       " 8: 'octahedrons',\n",
       " 9: 'enneahedrons',\n",
       " 10: 'decahedrons',\n",
       " 11: 'hendecahedrons',\n",
       " 12: 'dodecahedrons',\n",
       " 13: 'tridecahedrons',\n",
       " 14: 'tetradecahedrons',\n",
       " 15: 'pentadecahedrons',\n",
       " 16: 'hexadecahedrons',\n",
       " 17: 'heptadecahedrons',\n",
       " 18: 'octadecahedrons',\n",
       " 19: 'enneadecahedrons',\n",
       " 20: 'eikosahedrons'}"
      ]
     },
     "execution_count": 82,
     "metadata": {},
     "output_type": "execute_result"
    }
   ],
   "source": [
    "POLYHEDRA"
   ]
  },
  {
   "cell_type": "code",
   "execution_count": 85,
   "metadata": {},
   "outputs": [],
   "source": [
    "POLYHEDRA[2] = 'dihedrons'"
   ]
  },
  {
   "cell_type": "code",
   "execution_count": 86,
   "metadata": {},
   "outputs": [],
   "source": [
    "del POLYHEDRA[1]\n"
   ]
  },
  {
   "cell_type": "code",
   "execution_count": 87,
   "metadata": {},
   "outputs": [
    {
     "data": {
      "text/plain": [
       "{2: 'dihedrons',\n",
       " 3: 'trihedrons',\n",
       " 4: 'tetrahedrons',\n",
       " 5: 'pentahedrons',\n",
       " 6: 'hexahedrons',\n",
       " 7: 'heptahedrons',\n",
       " 8: 'octahedrons',\n",
       " 9: 'enneahedrons',\n",
       " 10: 'decahedrons',\n",
       " 11: 'hendecahedrons',\n",
       " 12: 'dodecahedrons',\n",
       " 13: 'tridecahedrons',\n",
       " 14: 'tetradecahedrons',\n",
       " 15: 'pentadecahedrons',\n",
       " 16: 'hexadecahedrons',\n",
       " 17: 'heptadecahedrons',\n",
       " 18: 'octadecahedrons',\n",
       " 19: 'enneadecahedrons',\n",
       " 20: 'eikosahedrons'}"
      ]
     },
     "execution_count": 87,
     "metadata": {},
     "output_type": "execute_result"
    }
   ],
   "source": [
    "POLYHEDRA"
   ]
  },
  {
   "cell_type": "code",
   "execution_count": 89,
   "metadata": {},
   "outputs": [
    {
     "name": "stdout",
     "output_type": "stream",
     "text": [
      "dihedrons\n",
      "trihedrons\n",
      "tetrahedrons\n",
      "pentahedrons\n",
      "hexahedrons\n",
      "heptahedrons\n",
      "octahedrons\n",
      "enneahedrons\n",
      "decahedrons\n",
      "hendecahedrons\n",
      "dodecahedrons\n",
      "tridecahedrons\n",
      "tetradecahedrons\n",
      "pentadecahedrons\n",
      "hexadecahedrons\n",
      "heptadecahedrons\n",
      "octadecahedrons\n",
      "enneadecahedrons\n",
      "eikosahedrons\n"
     ]
    }
   ],
   "source": [
    "for item in POLYHEDRA.values(): #przejście pętli drukuje klucze tak jak .keys(), .values() wartości, a .items() zwraca pary\n",
    "    print (item)"
   ]
  },
  {
   "cell_type": "code",
   "execution_count": 91,
   "metadata": {},
   "outputs": [
    {
     "name": "stdout",
     "output_type": "stream",
     "text": [
      "2 - dihedrons\n",
      "3 - trihedrons\n",
      "4 - tetrahedrons\n",
      "5 - pentahedrons\n",
      "6 - hexahedrons\n",
      "7 - heptahedrons\n",
      "8 - octahedrons\n",
      "9 - enneahedrons\n",
      "10 - decahedrons\n",
      "11 - hendecahedrons\n",
      "12 - dodecahedrons\n",
      "13 - tridecahedrons\n",
      "14 - tetradecahedrons\n",
      "15 - pentadecahedrons\n",
      "16 - hexadecahedrons\n",
      "17 - heptadecahedrons\n",
      "18 - octadecahedrons\n",
      "19 - enneadecahedrons\n",
      "20 - eikosahedrons\n"
     ]
    }
   ],
   "source": [
    "for key, val in POLYHEDRA.items(): # wypisanie z formatowaniem\n",
    "    print (f'{key} - {val}')"
   ]
  },
  {
   "cell_type": "code",
   "execution_count": null,
   "metadata": {},
   "outputs": [],
   "source": []
  },
  {
   "cell_type": "code",
   "execution_count": 95,
   "metadata": {},
   "outputs": [],
   "source": [
    "powers = (2**n for n in range(10)) # generated comprechension\n",
    "# () --> tworzy generator, [] --> tworzy listę z wartościami"
   ]
  },
  {
   "cell_type": "code",
   "execution_count": 96,
   "metadata": {},
   "outputs": [
    {
     "data": {
      "text/plain": [
       "1"
      ]
     },
     "execution_count": 96,
     "metadata": {},
     "output_type": "execute_result"
    }
   ],
   "source": [
    "next(powers, -1) \n",
    "#next(generator, wartość domyślna np. gdy się wyczerpie)"
   ]
  },
  {
   "cell_type": "code",
   "execution_count": 97,
   "metadata": {},
   "outputs": [
    {
     "data": {
      "text/plain": [
       "1023"
      ]
     },
     "execution_count": 97,
     "metadata": {},
     "output_type": "execute_result"
    }
   ],
   "source": [
    "sum(2**n for n in range(10))"
   ]
  },
  {
   "cell_type": "code",
   "execution_count": 1,
   "metadata": {},
   "outputs": [
    {
     "data": {
      "text/plain": [
       "2023"
      ]
     },
     "execution_count": 1,
     "metadata": {},
     "output_type": "execute_result"
    }
   ],
   "source": [
    "sum((2**n for n in range(10)), 1000) \n",
    "# gdy jest więcej wartości trzeba dać generator w nawiasy"
   ]
  },
  {
   "cell_type": "code",
   "execution_count": 100,
   "metadata": {},
   "outputs": [],
   "source": [
    "from itertools import count, islice"
   ]
  },
  {
   "cell_type": "code",
   "execution_count": 101,
   "metadata": {},
   "outputs": [
    {
     "name": "stdout",
     "output_type": "stream",
     "text": [
      "101 102 103 104 105 106 107 108 109 110\n"
     ]
    }
   ],
   "source": [
    "positive_integers = count(1)                   # przygotowanie generatora\n",
    "fragment = islice(positive_integers, 100, 110) # islice iteruje od zera\n",
    "                                               # count funkcja generatorowa\n",
    "print(*fragment)                               # * konsumuje generator"
   ]
  },
  {
   "cell_type": "code",
   "execution_count": 102,
   "metadata": {},
   "outputs": [],
   "source": [
    "from itertools import dropwhile, takewhile\n",
    "# takewhile zatrzymuje się przy pierwszymn iespełnionym warunku\n",
    "# dropwhile leci cały czas"
   ]
  },
  {
   "cell_type": "code",
   "execution_count": 103,
   "metadata": {},
   "outputs": [],
   "source": [
    "# predykaty\n",
    "below_101 = lambda n: n < 101\n",
    "below_111 = lambda n: n < 111"
   ]
  },
  {
   "cell_type": "code",
   "execution_count": 106,
   "metadata": {},
   "outputs": [
    {
     "name": "stdout",
     "output_type": "stream",
     "text": [
      "101 102 103 104 105 106 107 108 109 110\n"
     ]
    }
   ],
   "source": [
    "print(*takewhile(below_111, dropwhile(below_101, count(1))))"
   ]
  },
  {
   "cell_type": "code",
   "execution_count": 107,
   "metadata": {},
   "outputs": [],
   "source": [
    "above = lambda limit: lambda n: n > limit"
   ]
  },
  {
   "cell_type": "code",
   "execution_count": 108,
   "metadata": {},
   "outputs": [
    {
     "data": {
      "text/plain": [
       "<function __main__.<lambda>.<locals>.<lambda>(n)>"
      ]
     },
     "execution_count": 108,
     "metadata": {},
     "output_type": "execute_result"
    }
   ],
   "source": [
    "above(42) \n",
    "# dostarcza funkcję (która ustawia limit)"
   ]
  },
  {
   "cell_type": "code",
   "execution_count": 109,
   "metadata": {},
   "outputs": [
    {
     "data": {
      "text/plain": [
       "True"
      ]
     },
     "execution_count": 109,
     "metadata": {},
     "output_type": "execute_result"
    }
   ],
   "source": [
    "above(42)(52) \n",
    "# wywołuje funkcję i tu sprawdza czypodana wartość jest above dana liczba"
   ]
  },
  {
   "cell_type": "code",
   "execution_count": 111,
   "metadata": {},
   "outputs": [],
   "source": [
    "def not_ (predicate):  # _ obchidzi problem słowa kluczowego \n",
    "    def negation(arg):\n",
    "        return not predicate(arg)\n",
    "    return negation"
   ]
  },
  {
   "cell_type": "code",
   "execution_count": null,
   "metadata": {},
   "outputs": [],
   "source": []
  },
  {
   "cell_type": "code",
   "execution_count": 114,
   "metadata": {},
   "outputs": [
    {
     "name": "stdout",
     "output_type": "stream",
     "text": [
      "101 102 103 104 105 106 107 108 109 110\n"
     ]
    }
   ],
   "source": [
    "print(*takewhile(not_(above(110)), dropwhile(not_(above(100)), count(1))))"
   ]
  },
  {
   "cell_type": "markdown",
   "metadata": {},
   "source": [
    "$\\{p,q\\}$ \n",
    "p -> liczba boków ściany\n",
    "q -> liczba wierzchołków ściany\n",
    "$$p \\geq 3 $$\n",
    "\n",
    "$$q \\geq 3 $$\n",
    "\n",
    "$$ \\frac{1}{p} + \\frac{1}{q} > \\frac{1}{2}$$\n",
    "`$$ \\frac{1}{p} + \\frac{1}{q} > \\frac{1}{2}$$`"
   ]
  },
  {
   "cell_type": "code",
   "execution_count": 115,
   "metadata": {},
   "outputs": [],
   "source": [
    "too_few_sides = lambda p: p < 3\n",
    "too_few_faces = too_few_sides"
   ]
  },
  {
   "cell_type": "code",
   "execution_count": 116,
   "metadata": {},
   "outputs": [],
   "source": [
    "too_much_sides = lambda p: 1/p + 1/3 <= 1/2 \n",
    "too_much_faces = lambda p:  lambda q: 1/p + 1/q <= 1/2  \n",
    "# redukowanie ilości parametrów przez rozwlekanie do funkcji wyższego rzędu"
   ]
  },
  {
   "cell_type": "code",
   "execution_count": 118,
   "metadata": {},
   "outputs": [],
   "source": [
    "# omijanie konieczności kopiowania comprechension generator:\n",
    "def regular_polyhedra (): \n",
    "    return (\n",
    "        (p, q)\n",
    "        for p in takewhile(not_(too_much_sides),\n",
    "                            dropwhile(too_few_sides, count()))\n",
    "        for q in takewhile(not_(too_much_faces(p)),\n",
    "                            dropwhile(too_few_faces, count()))\n",
    "    )"
   ]
  },
  {
   "cell_type": "code",
   "execution_count": 119,
   "metadata": {},
   "outputs": [
    {
     "name": "stdout",
     "output_type": "stream",
     "text": [
      "(3, 3) (3, 4) (3, 5) (4, 3) (5, 3)\n"
     ]
    }
   ],
   "source": [
    "print (*regular_polyhedra())"
   ]
  },
  {
   "cell_type": "code",
   "execution_count": 123,
   "metadata": {},
   "outputs": [
    {
     "data": {
      "text/plain": [
       "<__main__.Entity at 0x219337f95c0>"
      ]
     },
     "execution_count": 123,
     "metadata": {},
     "output_type": "execute_result"
    }
   ],
   "source": [
    "class Entity:\n",
    "    pass\n",
    "# wywołanie obiektu klasy:\n",
    "obj = Entity() "
   ]
  },
  {
   "cell_type": "code",
   "execution_count": 134,
   "metadata": {},
   "outputs": [],
   "source": [
    "class Entity:\n",
    "    def __init__(self, name):     # __*__ metody wbudowane w pythonie,\n",
    "        print(name)               #__init__() inicjalizator (konstruktor, ale nie do końca)\n",
    "                                  # self  obiekt który chcemy zainicjalizować \n",
    "    "
   ]
  },
  {
   "cell_type": "code",
   "execution_count": 135,
   "metadata": {},
   "outputs": [
    {
     "name": "stdout",
     "output_type": "stream",
     "text": [
      "Janusz\n"
     ]
    }
   ],
   "source": [
    "obj = Entity('Janusz') # ilość parametrów jest o 1 mniejsza, bo 1 parametr to self"
   ]
  },
  {
   "cell_type": "code",
   "execution_count": 141,
   "metadata": {},
   "outputs": [],
   "source": [
    "class Polyhedron:\n",
    "    def __init__ (self, faces, name = None): # name jest nie obowiązkowe więc ustawiamy na None\n",
    "        self.name = name or POLYHEDRA.get(faces, 'polyhedron')\n",
    "        self.__faces = faces                 # __* nie można dostać się do takiego atrybutu poza klasą (prywatny atrybut)\n",
    "    def faces (self):\n",
    "        return self.__faces                  # można teraz tylko odczytać faces"
   ]
  },
  {
   "cell_type": "code",
   "execution_count": 142,
   "metadata": {},
   "outputs": [],
   "source": [
    "cube = Polyhedron(4)\n",
    "cube.name = 'cube'"
   ]
  },
  {
   "cell_type": "code",
   "execution_count": 144,
   "metadata": {},
   "outputs": [
    {
     "data": {
      "text/plain": [
       "4"
      ]
     },
     "execution_count": 144,
     "metadata": {},
     "output_type": "execute_result"
    }
   ],
   "source": [
    "cube.faces()"
   ]
  },
  {
   "cell_type": "code",
   "execution_count": 145,
   "metadata": {},
   "outputs": [
    {
     "data": {
      "text/plain": [
       "True"
      ]
     },
     "execution_count": 145,
     "metadata": {},
     "output_type": "execute_result"
    }
   ],
   "source": [
    "type(cube) is Polyhedron \n",
    "# sprawdza czy jest to typ danej klasy"
   ]
  },
  {
   "cell_type": "code",
   "execution_count": 146,
   "metadata": {},
   "outputs": [
    {
     "data": {
      "text/plain": [
       "True"
      ]
     },
     "execution_count": 146,
     "metadata": {},
     "output_type": "execute_result"
    }
   ],
   "source": [
    "isinstance(cube,Polyhedron) \n",
    "# czy obiekt jest instancją danej klasy"
   ]
  },
  {
   "cell_type": "code",
   "execution_count": 147,
   "metadata": {},
   "outputs": [],
   "source": [
    "from random import randint"
   ]
  },
  {
   "cell_type": "code",
   "execution_count": 148,
   "metadata": {},
   "outputs": [
    {
     "data": {
      "text/plain": [
       "4"
      ]
     },
     "execution_count": 148,
     "metadata": {},
     "output_type": "execute_result"
    }
   ],
   "source": [
    "randint(1, 10)"
   ]
  },
  {
   "cell_type": "code",
   "execution_count": 149,
   "metadata": {},
   "outputs": [],
   "source": [
    "class RandomPolyhedron (Polyhedron):\n",
    "    def __init__ (self):\n",
    "        super().__init__(randint(4, 20)) \n",
    "        # szuka klasu nadrzędnej i daje obiekt klasy nadrzędnej. Podajemy 1 argument mniej bo self dostarcza super()"
   ]
  },
  {
   "cell_type": "code",
   "execution_count": 150,
   "metadata": {},
   "outputs": [
    {
     "data": {
      "text/plain": [
       "'eikosahedrons'"
      ]
     },
     "execution_count": 150,
     "metadata": {},
     "output_type": "execute_result"
    }
   ],
   "source": [
    "RandomPolyhedron().name"
   ]
  },
  {
   "cell_type": "markdown",
   "metadata": {},
   "source": [
    "Wzór na liczbę ścian\n",
    "$$ F = \\frac{4q}{2p+2q -pq} $$"
   ]
  },
  {
   "cell_type": "code",
   "execution_count": 152,
   "metadata": {},
   "outputs": [],
   "source": [
    "# klasa pochodna  która przyjmuje starszą klasę:\n",
    "class RegularPolyhedron (Polyhedron): \n",
    "    def __init__(self, p, q):\n",
    "        self.p = p\n",
    "        self.q = q\n",
    "        super().__init__(self.faces())\n",
    "        self.name = 'regular' + self.name\n",
    "    def faces (self):\n",
    "        return 4*self.q // (2*self.p + 2*self.q - self.p*self.q)"
   ]
  },
  {
   "cell_type": "code",
   "execution_count": 153,
   "metadata": {},
   "outputs": [],
   "source": [
    "pyramid = RegularPolyhedron(3,3)"
   ]
  },
  {
   "cell_type": "code",
   "execution_count": 154,
   "metadata": {},
   "outputs": [
    {
     "data": {
      "text/plain": [
       "'regulartetrahedrons'"
      ]
     },
     "execution_count": 154,
     "metadata": {},
     "output_type": "execute_result"
    }
   ],
   "source": [
    "pyramid.name"
   ]
  },
  {
   "cell_type": "code",
   "execution_count": 155,
   "metadata": {},
   "outputs": [
    {
     "data": {
      "text/plain": [
       "4"
      ]
     },
     "execution_count": 155,
     "metadata": {},
     "output_type": "execute_result"
    }
   ],
   "source": [
    "pyramid.faces()"
   ]
  },
  {
   "cell_type": "code",
   "execution_count": 156,
   "metadata": {},
   "outputs": [],
   "source": [
    "class Solid:\n",
    "    pass"
   ]
  },
  {
   "cell_type": "code",
   "execution_count": 157,
   "metadata": {},
   "outputs": [],
   "source": [
    "sphere = Solid()\n",
    "# jest inicjalizator domyślny"
   ]
  },
  {
   "cell_type": "code",
   "execution_count": 159,
   "metadata": {},
   "outputs": [
    {
     "data": {
      "text/plain": [
       "['__class__',\n",
       " '__delattr__',\n",
       " '__dict__',\n",
       " '__dir__',\n",
       " '__doc__',\n",
       " '__eq__',\n",
       " '__format__',\n",
       " '__ge__',\n",
       " '__getattribute__',\n",
       " '__gt__',\n",
       " '__hash__',\n",
       " '__init__',\n",
       " '__init_subclass__',\n",
       " '__le__',\n",
       " '__lt__',\n",
       " '__module__',\n",
       " '__ne__',\n",
       " '__new__',\n",
       " '__reduce__',\n",
       " '__reduce_ex__',\n",
       " '__repr__',\n",
       " '__setattr__',\n",
       " '__sizeof__',\n",
       " '__str__',\n",
       " '__subclasshook__',\n",
       " '__weakref__']"
      ]
     },
     "execution_count": 159,
     "metadata": {},
     "output_type": "execute_result"
    }
   ],
   "source": [
    "dir(sphere) \n",
    "# \"pusta\" klasa i jej obiekt zawiera zestaw atrybutów"
   ]
  },
  {
   "cell_type": "code",
   "execution_count": 160,
   "metadata": {},
   "outputs": [],
   "source": [
    "sphere.radius = 1"
   ]
  },
  {
   "cell_type": "code",
   "execution_count": 161,
   "metadata": {},
   "outputs": [
    {
     "data": {
      "text/plain": [
       "{'radius': 1}"
      ]
     },
     "execution_count": 161,
     "metadata": {},
     "output_type": "execute_result"
    }
   ],
   "source": [
    "sphere.__dict__"
   ]
  },
  {
   "cell_type": "code",
   "execution_count": 194,
   "metadata": {},
   "outputs": [],
   "source": [
    "cuboid = cube \n",
    "# dodatkowy alias do obiektu"
   ]
  },
  {
   "cell_type": "code",
   "execution_count": 195,
   "metadata": {},
   "outputs": [],
   "source": [
    "plus_minus = lambda x: (+x, -x) \n",
    "# normalnie krotki  nie wymagają podawania nawiasów, ale w lambach trzeba ich użyć,\n",
    "# żeby nie było błędów (może potraktować \"przypisanie\" jako parę lambda, coś)"
   ]
  },
  {
   "cell_type": "code",
   "execution_count": 196,
   "metadata": {},
   "outputs": [
    {
     "data": {
      "text/plain": [
       "(1, -1)"
      ]
     },
     "execution_count": 196,
     "metadata": {},
     "output_type": "execute_result"
    }
   ],
   "source": [
    "plus_minus(1)"
   ]
  },
  {
   "cell_type": "code",
   "execution_count": 197,
   "metadata": {},
   "outputs": [],
   "source": [
    "# potrzeba 3 par aby wygenerować 8 wieszchołków sześcianu\n",
    "cuboid.vertex_patterns = [(plus_minus(1), plus_minus(2), plus_minus(3))] \n",
    "# rozciągamy prostopadłościan żeby wiedzieć co z czego wynika"
   ]
  },
  {
   "cell_type": "code",
   "execution_count": 198,
   "metadata": {},
   "outputs": [],
   "source": [
    "from itertools import product"
   ]
  },
  {
   "cell_type": "code",
   "execution_count": 199,
   "metadata": {},
   "outputs": [],
   "source": [
    "#print(*product(plus_minus(1), plus_minus(2), plus_minus(3)))"
   ]
  },
  {
   "cell_type": "code",
   "execution_count": 202,
   "metadata": {},
   "outputs": [],
   "source": [
    "class VertexGenerator:\n",
    "    def vertices (self):\n",
    "        try:\n",
    "            for pattern in self.vertex_patterns:\n",
    "                yield from product(*pattern) # trzeba wypakować krotkę zawierającą współrzędną wierzchołka\n",
    "        except:\n",
    "            pass"
   ]
  },
  {
   "cell_type": "code",
   "execution_count": 203,
   "metadata": {},
   "outputs": [
    {
     "name": "stdout",
     "output_type": "stream",
     "text": [
      "(1, 2, 3) (1, 2, -3) (1, -2, 3) (1, -2, -3) (-1, 2, 3) (-1, 2, -3) (-1, -2, 3) (-1, -2, -3)\n"
     ]
    }
   ],
   "source": [
    "#VertexGenerator # przestrzeń nazw\n",
    "print(*VertexGenerator.vertices(cuboid)) \n",
    "# można przekazywać obiekty dla różnych klas"
   ]
  },
  {
   "cell_type": "code",
   "execution_count": 210,
   "metadata": {},
   "outputs": [],
   "source": [
    "class PlatonicSolid (RegularPolyhedron, VertexGenerator):\n",
    "    def __init__ (self, *args):                     # *args forwardowanie argumentów (przekazywanie bez patrzenia do środka)\n",
    "        super().__init__(*args)\n",
    "        self.vertex_patterns = self.PATTERNS.get(self.faces(), []) # ... legalny obiekt elipsis (pokazuje że czegoś nie ma)\n",
    "                                                                   # [] żeby uciszyć błędy\n",
    "    PHI = (1 + 5**0.5) / 2\n",
    "    \n",
    "    PATTERNS =  {          # przepisy na generowanie wierzcholków\n",
    "        20: [\n",
    "            ((0,), plus_minus(1), plus_minus(PHI)),\n",
    "            (plus_minus(1), plus_minus(PHI), (0,)),\n",
    "            (plus_minus(PHI), (0,), plus_minus(1))\n",
    "        ]\n",
    "    }   "
   ]
  },
  {
   "cell_type": "code",
   "execution_count": 211,
   "metadata": {},
   "outputs": [
    {
     "data": {
      "text/plain": [
       "{20: [((0,), (1, -1), (1.618033988749895, -1.618033988749895)),\n",
       "  ((1, -1), (1.618033988749895, -1.618033988749895), (0,)),\n",
       "  ((1.618033988749895, -1.618033988749895), (0,), (1, -1))]}"
      ]
     },
     "execution_count": 211,
     "metadata": {},
     "output_type": "execute_result"
    }
   ],
   "source": [
    "PlatonicSolid.PATTERNS"
   ]
  },
  {
   "cell_type": "code",
   "execution_count": 215,
   "metadata": {},
   "outputs": [
    {
     "name": "stdout",
     "output_type": "stream",
     "text": [
      "(0, 1, 1.618033988749895) (0, 1, -1.618033988749895) (0, -1, 1.618033988749895) (0, -1, -1.618033988749895) (1, 1.618033988749895, 0) (1, -1.618033988749895, 0) (-1, 1.618033988749895, 0) (-1, -1.618033988749895, 0) (1.618033988749895, 0, 1) (1.618033988749895, 0, -1) (-1.618033988749895, 0, 1) (-1.618033988749895, 0, -1)\n"
     ]
    }
   ],
   "source": [
    "print(*PlatonicSolid(3, 5).vertices())"
   ]
  },
  {
   "cell_type": "code",
   "execution_count": null,
   "metadata": {},
   "outputs": [],
   "source": [
    "zip(*PlatonicSolid(3, 5).vertices()) \n",
    "# zip dostanie taką samą kolekcję jak zip i będzie zbierał synchronicznie pasujące elementy (pierwszy, pierwszy,...)"
   ]
  },
  {
   "cell_type": "code",
   "execution_count": 226,
   "metadata": {},
   "outputs": [
    {
     "name": "stdout",
     "output_type": "stream",
     "text": [
      "(0, 0, 0, 0, 1, 1, -1, -1, 1.618033988749895, 1.618033988749895, -1.618033988749895, -1.618033988749895) (1, 1, -1, -1, 1.618033988749895, -1.618033988749895, 1.618033988749895, -1.618033988749895, 0, 0, 0, 0) (1.618033988749895, -1.618033988749895, 1.618033988749895, -1.618033988749895, 0, 0, 0, 0, 1, -1, 1, -1)\n"
     ]
    }
   ],
   "source": [
    "print(*zip(*PlatonicSolid(3, 5).vertices()))"
   ]
  },
  {
   "cell_type": "markdown",
   "metadata": {},
   "source": [
    "Wizualizacja rezultatów przy pomocy MatplotLib:"
   ]
  },
  {
   "cell_type": "code",
   "execution_count": 242,
   "metadata": {},
   "outputs": [],
   "source": [
    "import matplotlib.pyplot as plt\n",
    "import mpl_toolkits.mplot3d"
   ]
  },
  {
   "cell_type": "code",
   "execution_count": 243,
   "metadata": {},
   "outputs": [],
   "source": [
    "from itertools import combinations"
   ]
  },
  {
   "cell_type": "code",
   "execution_count": 255,
   "metadata": {},
   "outputs": [],
   "source": [
    "from scipy.spatial import distance"
   ]
  },
  {
   "cell_type": "code",
   "execution_count": 244,
   "metadata": {},
   "outputs": [],
   "source": [
    "# Siatka wykresu\n",
    "def plot_edges (polyhedron, limit):              # będziemy lączyć tylko te punkty najbliżej siebie, bo one tworzą krawędź\n",
    "    fig = plt.figure(figsize = (10, 10))         # wymiary są dostosowane do druku\n",
    "    ax = fig.add_subplot(111, projection = '3d') # 111 --> 1 wiersz, 1 kolumna, wykres numer 1\n",
    "    ax.view_init(elev=35, azim=45)               # inicjalizujemy widok (elev -> wysokość w stopniach ,azim -> azymut w stopniach)\n",
    "   \n",
    "    plt.show()"
   ]
  },
  {
   "cell_type": "markdown",
   "metadata": {},
   "source": [
    "Wykres:"
   ]
  },
  {
   "cell_type": "code",
   "execution_count": 256,
   "metadata": {},
   "outputs": [],
   "source": [
    "def plot_edges (polyhedron, limit):              # będziemy lączyć tylko te punkty najbliżej siebie, bo one tworzą krawędź\n",
    "    fig = plt.figure(figsize = (10, 10))         # wymiary są dostosowane do druku\n",
    "    ax = fig.add_subplot(111, projection = '3d') # 111 --> 1 wiersz, 1 kolumna, wykres numer 1\n",
    "    ax.view_init(elev=35, azim=45)               # inicjalizujemy widok (elev -> wysokość w stopniach ,azim -> azymut w stopniach)\n",
    "    edges = (\n",
    "       list(zip(begin, end))                    # zipy są leniwe więc trzeba napisać list(zip()) lub[*zip()] żeby zmusić go do działania    \n",
    "       for begin, end in combinations(polyhedron.vertices(), 2) # tworzymy linie łączące punkty \n",
    "       if distance.euclidean(begin, end) < limit                # wyeliminowanie niepotrzebnych linii\n",
    "    )\n",
    "    for coords in edges:                         # pętla rysująca linie\n",
    "        ax.plot3D(*coords, c='b')                # color (c) na blue ujednolici wykres\n",
    "    ax.scatter3D(*zip(*polyhedron.vertices()),c= 'r')\n",
    "    plt.show()"
   ]
  },
  {
   "cell_type": "code",
   "execution_count": 257,
   "metadata": {},
   "outputs": [
    {
     "data": {
      "image/png": "[encoded data removed]",
      "text/plain": [
       "<Figure size 720x720 with 1 Axes>"
      ]
     },
     "metadata": {
      "needs_background": "light"
     },
     "output_type": "display_data"
    }
   ],
   "source": [
    "plot_edges(PlatonicSolid(3,5),3)"
   ]
  },
  {
   "cell_type": "markdown",
   "metadata": {},
   "source": [
    "# KONIEC"
   ]
  }
 ],
 "metadata": {
  "kernelspec": {
   "display_name": "Python 3",
   "language": "python",
   "name": "python3"
  },
  "language_info": {
   "codemirror_mode": {
    "name": "ipython",
    "version": 3
   },
   "file_extension": ".py",
   "mimetype": "text/x-python",
   "name": "python",
   "nbconvert_exporter": "python",
   "pygments_lexer": "ipython3",
   "version": "3.7.1"
  }
 },
 "nbformat": 4,
 "nbformat_minor": 2
}
