{
 "cells": [
  {
   "cell_type": "code",
   "execution_count": 2,
   "metadata": {},
   "outputs": [],
   "source": [
    "from IPython.display import Image"
   ]
  },
  {
   "cell_type": "markdown",
   "metadata": {},
   "source": [
    "# Problems solved from Codewars.com"
   ]
  },
  {
   "cell_type": "markdown",
   "metadata": {},
   "source": [
    "\n",
    "<font color='blue' size=6><i>4kyu</font>"
   ]
  },
  {
   "cell_type": "markdown",
   "metadata": {},
   "source": [
    "## Snail"
   ]
  },
  {
   "cell_type": "markdown",
   "metadata": {},
   "source": [
    "##### Task:\n",
    "Snail Sort\n",
    "Given an n x n array, return the array elements arranged from outermost elements to the middle element, traveling clockwise.\n",
    "\n",
    "array = [[1,2,3],\n",
    "         [4,5,6],\n",
    "         [7,8,9]]\n",
    "snail(array) #=> [1,2,3,6,9,8,7,4,5] <br>\n",
    "For better understanding, please follow the numbers of the next array consecutively:\n",
    "\n",
    "array = [[1,2,3],\n",
    "         [8,9,4],\n",
    "         [7,6,5]]\n",
    "snail(array) #=> [1,2,3,4,5,6,7,8,9]\n",
    "###### This image will illustrate things more clearly:"
   ]
  },
  {
   "cell_type": "code",
   "execution_count": 3,
   "metadata": {},
   "outputs": [
    {
     "data": {
      "image/png": "[encoded data removed]",
      "text/plain": [
       "<IPython.core.display.Image object>"
      ]
     },
     "execution_count": 3,
     "metadata": {},
     "output_type": "execute_result"
    }
   ],
   "source": [
    "Image(\"http://www.haan.lu/files/2513/8347/2456/snail.png\")"
   ]
  },
  {
   "cell_type": "markdown",
   "metadata": {},
   "source": [
    "NOTE: The idea is not sort the elements from the lowest value to the highest; \n",
    "      the idea is to traverse the 2-d array in a clockwise snailshell pattern.\n",
    "\n",
    "NOTE 2: The 0x0 (empty matrix) is represented as [[]]a<br>\n",
    "https://www.codewars.com/kata/521c2db8ddc89b9b7a0000c1"
   ]
  },
  {
   "cell_type": "markdown",
   "metadata": {},
   "source": [
    "##### Solution:"
   ]
  },
  {
   "cell_type": "code",
   "execution_count": 4,
   "metadata": {},
   "outputs": [],
   "source": [
    "import numpy as np\n",
    "import itertools\n",
    "def snail(array):\n",
    "    arr, result = np.array(array), []\n",
    "    if arr.any() and np.squeeze(arr).any():\n",
    "        while np.squeeze(arr).any(): \n",
    "            result.append(list(arr[0]))\n",
    "            arr = np.delete(arr, (0), axis=0)\n",
    "            arr = np.rot90(arr) \n",
    "        return list(itertools.chain(*result))\n",
    "    else: return []"
   ]
  },
  {
   "cell_type": "markdown",
   "metadata": {},
   "source": [
    "## Most frequently used words in a text"
   ]
  },
  {
   "cell_type": "markdown",
   "metadata": {},
   "source": [
    "##### Task:\n",
    "Write a function that, given a string of text (possibly with punctuation and line-breaks), returns an array of the top-3 most occurring words, in descending order of the number of occurrences.\n",
    "\n",
    "Assumptions:\n",
    "A word is a string of letters (A to Z) optionally containing one or more apostrophes (') in ASCII. (No need to handle fancy punctuation.)\n",
    "Matches should be case-insensitive, and the words in the result should be lowercased.\n",
    "Ties may be broken arbitrarily.\n",
    "If a text contains fewer than three unique words, then either the top-2 or top-1 words should be returned, or an empty array if a text contains no words.\n",
    "https://www.codewars.com/kata/51e056fe544cf36c410000fb"
   ]
  },
  {
   "cell_type": "markdown",
   "metadata": {},
   "source": [
    "##### Solution:"
   ]
  },
  {
   "cell_type": "code",
   "execution_count": 5,
   "metadata": {},
   "outputs": [],
   "source": [
    "import re\n",
    "from collections import Counter\n",
    "def top_3_words(text):\n",
    "    if len(text):\n",
    "        all_words = re.findall(r\"[a-z']+'?\", text.lower())\n",
    "        w_size = len(all_words)\n",
    "        if w_size:\n",
    "            if all_words[0] == \"'\" or all_words[0] == \"\\'\\'\\'\": return []  \n",
    "            dic_words = Counter(all_words)\n",
    "            def ret(n):\n",
    "                return [i[0] for i in dic_words.most_common(n)]\n",
    "            if   w_size == 1: return ret(1)\n",
    "            elif w_size == 2: return ret(2)\n",
    "            else:             return ret(3)\n",
    "        else: return []\n",
    "    else: return []"
   ]
  },
  {
   "cell_type": "markdown",
   "metadata": {},
   "source": [
    "## One Line Task: Palindrome String"
   ]
  },
  {
   "cell_type": "markdown",
   "metadata": {},
   "source": [
    "##### Task:\n",
    "Your task is to generate a palindrome string, using the specified length n, the specified characters c(all characters in c must be used at least once).<br>\n",
    "Code length should less than: python 55 characters.<br>\n",
    "https://www.codewars.com/kata/58b57f984f353b3dc9000030"
   ]
  },
  {
   "cell_type": "markdown",
   "metadata": {},
   "source": [
    "##### Solution:"
   ]
  },
  {
   "cell_type": "code",
   "execution_count": 6,
   "metadata": {},
   "outputs": [],
   "source": [
    "palindrome=lambda n,c:(c*n)[:n//2]+(c*n)[~-n//2::-1]"
   ]
  },
  {
   "cell_type": "markdown",
   "metadata": {},
   "source": [
    "## One Line Task: Squirrel And Tree"
   ]
  },
  {
   "cell_type": "markdown",
   "metadata": {},
   "source": [
    "##### Task:\n",
    "Since the weather was good, some students decided to go for a walk in the park after the first lectures of the new academic year. There they saw a squirrel, which climbed a tree in a spiral at a constant angle to the ground. They calculated that in one loop the squirrel climbes h meters (vertical height), the height of the tree is equal to H, and the length of its circumference equals S.\n",
    "\n",
    "These calculations were exhausting, so now the students need your help to figure out how many meters the path length of squirrel climbed when it reached the tree top. The result should be rounded to 4 decimal places\n",
    "\n",
    "Code limit: Less than 52 characters (JavaScript & Python)<br>\n",
    "https://www.codewars.com/kata/59016379ee5456d8cc00000f"
   ]
  },
  {
   "cell_type": "markdown",
   "metadata": {},
   "source": [
    "##### Solution:"
   ]
  },
  {
   "cell_type": "code",
   "execution_count": 7,
   "metadata": {},
   "outputs": [],
   "source": [
    "squirrel=lambda h,H,S:round((H*H+(H*S/h)**2)**.5,4)"
   ]
  },
  {
   "cell_type": "markdown",
   "metadata": {},
   "source": [
    "<font color='yellow' size=6><i>5kyu</font>"
   ]
  },
  {
   "cell_type": "markdown",
   "metadata": {},
   "source": [
    "## Haiku Checker"
   ]
  },
  {
   "cell_type": "markdown",
   "metadata": {},
   "source": [
    "##### Task:\n",
    "Haikus are short poems in a three-line format, with 17 syllables arranged in a 5–7–5 pattern. Your task is to check if the supplied text is a haiku or not.\n",
    "\n",
    "About syllables\n",
    "Syllables are the phonological building blocks of words. In this kata, a syllable is a part of a word including a vowel (\"a-e-i-o-u-y\") or a group of vowels (e.g. \"ou\", \"ee\", \"ay\"). A few examples: \"tea\", \"can\", \"to·day\", \"week·end\", \"el·e·phant\".\n",
    "\n",
    "However, silent \"E\"s do not create syllables. In this kata, an \"E\" is considered silent if it's alone at the end of the word, preceded by one (or more) consonant(s) and there is at least one other syllable in the word. Examples: \"age\", \"ar·range\", \"con·crete\"; but not in \"she\", \"blue\", \"de·gree\".\n",
    "\n",
    "Some more examples:\n",
    "\n",
    "* one syllable words: \"cat\", \"cool\", \"sprout\", \"like\", \"eye\", \"squeeze\"\n",
    "* two syllables words: \"ac·count\", \"hon·est\", \"beau·ty\", \"a·live\", \"be·cause\", \"re·store\""
   ]
  },
  {
   "cell_type": "markdown",
   "metadata": {},
   "source": [
    "##### Solution:"
   ]
  },
  {
   "cell_type": "code",
   "execution_count": 8,
   "metadata": {},
   "outputs": [],
   "source": [
    "import re\n",
    "def is_haiku(text):\n",
    "    \n",
    "    def parse_line(line):\n",
    "        word_pattern = r'[^\\W\\d_]+'\n",
    "        return re.findall(word_pattern, line)\n",
    "    def count_syllabes(word):\n",
    "        vowel_pattern =  r'[aeiouy]+'\n",
    "        vowels = re.findall(vowel_pattern, word, re.I)\n",
    "        if vowels and vowels[-1] == 'e' and word[-1] == 'e':\n",
    "           vowels.pop()\n",
    "        return max(len(vowels),1)\n",
    "    \n",
    "    syllables = [sum(map(count_syllabes, parse_line(line)))\n",
    "                    for line in text.splitlines()]\n",
    "\n",
    "    return syllables ==[5, 7, 5]"
   ]
  },
  {
   "cell_type": "markdown",
   "metadata": {},
   "source": [
    "<font color='yellow' size=6><i>6kyu</font>"
   ]
  },
  {
   "cell_type": "markdown",
   "metadata": {},
   "source": [
    "## Strange roman numbers"
   ]
  },
  {
   "cell_type": "markdown",
   "metadata": {},
   "source": [
    "##### Task:\n",
    "Many years ago, Roman numbers were defined by only 4 digits: I, V, X, L, which represented 1, 5, 10, 50. These were the only digits used. The value of a sequence was simply the sum of digits in it. For instance:\n",
    "\n",
    "IV = VI = 6\n",
    "IX = XI = 11\n",
    "XXL = LXX = XLX = 70\n",
    "It is easy to see that this system is ambiguous, and some numbers could be written in many different ways. Your goal is to determine how many distinct integers could be represented by exactly n Roman digits grouped together. For instance:\n",
    "\n",
    "solve(1) = 4, because groups of 1 are [I, V, X, L]. <br>\n",
    "solve(2) = 10, because the groups of 2 are [II, VI, VV, XI, XV, XX, IL, VL, XL, LL] corresponding to [2,6,10,11,15,20,51,55,60,100].<br> \n",
    "solve(3) = 20, because groups of 3 start with [III, IIV, IVV, ...etc]<br>\n",
    "n will be <=10,000,000"
   ]
  },
  {
   "cell_type": "markdown",
   "metadata": {},
   "source": [
    "##### Solution:"
   ]
  },
  {
   "cell_type": "code",
   "execution_count": 9,
   "metadata": {},
   "outputs": [],
   "source": [
    "from functools import lru_cache\n",
    "THRESHOLD = 12\n",
    "DIGITS = [1, 5, 10, 50]\n",
    "def solve_naive(n):\n",
    "    minimal = n * min(DIGITS)\n",
    "    maximal = n * max(DIGITS)\n",
    "    return maximal - minimal\n",
    "@lru_cache(maxsize = THRESHOLD)    \n",
    "def solve_brut(n):\n",
    "    #iloczyn kartezjanski\n",
    "    from itertools import product\n",
    "    combinations = product(DIGITS, repeat = n)\n",
    "    #sumowanie wartości w krotce\n",
    "    values = map(sum, combinations)\n",
    "    return len(set(values))\n",
    "@lru_cache(maxsize = THRESHOLD)      \n",
    "def determinate_delta (tries = 12):\n",
    "    deltas = (solve_naive(n) - solve_brut(n)\n",
    "    for n in range(1, tries +1))\n",
    "    return max (deltas)\n",
    "def solve(n):\n",
    "    if n > THRESHOLD:\n",
    "        return solve_naive(n) - determinate_delta(THRESHOLD)\n",
    "    return solve_brut(n) "
   ]
  },
  {
   "cell_type": "markdown",
   "metadata": {},
   "source": [
    "## Which are in?"
   ]
  },
  {
   "cell_type": "markdown",
   "metadata": {},
   "source": [
    "##### Task:\n",
    "Given two arrays of strings a1 and a2 return a sorted array r in lexicographical order of the strings of a1 which are substrings of strings of a2.\n",
    "\n",
    "#Example 1: a1 = [\"arp\", \"live\", \"strong\"]\n",
    "\n",
    "a2 = [\"lively\", \"alive\", \"harp\", \"sharp\", \"armstrong\"]\n",
    "\n",
    "returns [\"arp\", \"live\", \"strong\"]\n",
    "\n",
    "#Example 2: a1 = [\"tarp\", \"mice\", \"bull\"]\n",
    "\n",
    "a2 = [\"lively\", \"alive\", \"harp\", \"sharp\", \"armstrong\"]\n",
    "\n",
    "returns []\n",
    "\n",
    "Notes:\n",
    "* Arrays are written in \"general\" notation. See \"Your Test Cases\" for examples in your language.\n",
    "* In Shell bash a1 and a2 are strings. The return is a string where words are separated by commas.\n",
    "* Beware: r must be without duplicates.\n",
    "* Don't mutate the inputs."
   ]
  },
  {
   "cell_type": "markdown",
   "metadata": {},
   "source": [
    "##### Solution:"
   ]
  },
  {
   "cell_type": "code",
   "execution_count": 11,
   "metadata": {},
   "outputs": [],
   "source": [
    "def in_array(substrings, strings):\n",
    "    resoult = []\n",
    "    for string in strings:\n",
    "        for substring in substrings:\n",
    "           if (substring in string):\n",
    "               resoult.append(substring)\n",
    "    return sorted(list(set(resoult)))"
   ]
  },
  {
   "cell_type": "markdown",
   "metadata": {},
   "source": [
    "## Encrypt this!"
   ]
  },
  {
   "cell_type": "markdown",
   "metadata": {},
   "source": [
    "##### Task:\n",
    "You want to create secret messages which can be deciphered by the Decipher this! kata.<br>\n",
    "Here are the conditions:\n",
    "\n",
    "Your message is a string containing space separated words.<br>\n",
    "You need to encrypt each word in the message using the following rules:<br>\n",
    "The first letter needs to be converted to its ASCII code.<br>\n",
    "The second letter needs to be switched with the last letter<br>\n",
    "Keepin' it simple: There are no special characters in input.<br><br>\n",
    "Examples:\n",
    "* encrypt_this(\"Hello\") == \"72olle\"\n",
    "* encrypt_this(\"good\") == \"103doo\"\n",
    "* encrypt_this(\"hello world\") == \"104olle 119drlo\""
   ]
  },
  {
   "cell_type": "markdown",
   "metadata": {},
   "source": [
    "##### Solution:"
   ]
  },
  {
   "cell_type": "code",
   "execution_count": 13,
   "metadata": {},
   "outputs": [],
   "source": [
    "def encrypt_this(text): \n",
    "    words = text.split()\n",
    "    changedString = []\n",
    "    for word in words:\n",
    "        letters = list(word)\n",
    "        if len(letters) > 0: letters[0] = str(ord(letters[0]))          \n",
    "        if len(letters) > 1: letters[1] , letters[-1] = letters[-1] , letters[1] \n",
    "        changedString.append(''.join(letters))\n",
    "    return ' '.join(changedString)"
   ]
  },
  {
   "cell_type": "markdown",
   "metadata": {},
   "source": [
    "## Find the unique number"
   ]
  },
  {
   "cell_type": "markdown",
   "metadata": {},
   "source": [
    "##### Task:\n",
    "There is an array with some numbers. All numbers are equal except for one. Try to find it!\n",
    "\n",
    "find_uniq([ 1, 1, 1, 2, 1, 1 ]) == 2<br>\n",
    "find_uniq([ 0, 0, 0.55, 0, 0 ]) == 0.55<br>\n",
    "It’s guaranteed that array contains more than 3 numbers.<br>\n",
    "Think about perfomance."
   ]
  },
  {
   "cell_type": "markdown",
   "metadata": {},
   "source": [
    "##### Solution:"
   ]
  },
  {
   "cell_type": "code",
   "execution_count": 14,
   "metadata": {},
   "outputs": [],
   "source": [
    "import numpy as np\n",
    "def find_uniq(arr):\n",
    "    unique, amount  = np.unique(arr,return_counts=True)\n",
    "    idx = np.argmin(amount)\n",
    "    return (unique[idx])"
   ]
  },
  {
   "cell_type": "markdown",
   "metadata": {},
   "source": [
    "## Ideal electron distribution"
   ]
  },
  {
   "cell_type": "markdown",
   "metadata": {},
   "source": [
    "##### Task:\n",
    "You are a khmmadkhm scientist and you decided to play with electron distribution among atom's shells. You know that basic idea of electron distribution is that electrons should fill a shell untill it's holding the maximum number of electrons.\n",
    "\n",
    "Rules:\n",
    "\n",
    "* Maximum number of electrons in a shell is distributed with a rule of 2n^2 (n being position of a shell).\n",
    "* For example, maximum number of electrons in 3rd shield is 2*3^2 = 18.\n",
    "* Electrons should fill the lowest level shell first.\n",
    "* If the electrons have completely filled the lowest level shell, the other unoccupied electrons will fill the higher level shell and so on."
   ]
  },
  {
   "cell_type": "markdown",
   "metadata": {},
   "source": [
    "##### Solution:"
   ]
  },
  {
   "cell_type": "code",
   "execution_count": 17,
   "metadata": {},
   "outputs": [],
   "source": [
    "def atomic_number(electrons):\n",
    "    n, eShells = 1, []\n",
    "    while(electrons > 0):\n",
    "        shell = 2*n**2\n",
    "        if electrons < shell:\n",
    "            shell = electrons\n",
    "            electrons = 0\n",
    "        else:\n",
    "            electrons -= shell\n",
    "        eShells.append(shell)\n",
    "        n += 1\n",
    "    return eShells   "
   ]
  },
  {
   "cell_type": "markdown",
   "metadata": {},
   "source": [
    "## Simple transposition"
   ]
  },
  {
   "cell_type": "markdown",
   "metadata": {},
   "source": [
    "##### Task:\n",
    "Simple transposition is a basic and simple cryptography technique. We make 2 rows and put first a letter in the Row 1, the second in the Row 2, third in Row 1 and so on until the end. Then we put the text from Row 2 next to the Row 1 text and thats it.\n",
    "\n",
    "Complete the function that recieves a string and encrypt it with this simple transposition.\n",
    "\n",
    "Example\n",
    "For example if the text to encrypt is: \"Simple text\", the 2 rows will be:\n",
    "\n",
    "Row 1\tS\tm\tl\t\te\tt <br>\n",
    "Row 2\ti\tp\te\tt\tx\t\n",
    "\n",
    "So the result string will be: `\"Sml etipetx\"`"
   ]
  },
  {
   "cell_type": "markdown",
   "metadata": {},
   "source": [
    "##### Solution:"
   ]
  },
  {
   "cell_type": "code",
   "execution_count": 18,
   "metadata": {},
   "outputs": [],
   "source": [
    "def simple_transposition(text):\n",
    "    list1, list2 = [],[]\n",
    "    [list1.append(letter) if i % 2 == 0 \n",
    "                          else list2.append(letter) \n",
    "                          for i, letter in enumerate(text)]\n",
    "    return (''.join(list1 + list2))"
   ]
  },
  {
   "cell_type": "markdown",
   "metadata": {},
   "source": [
    "## Delete occurrences of an element if it occurs more than n times"
   ]
  },
  {
   "cell_type": "markdown",
   "metadata": {},
   "source": [
    "##### Task:\n",
    "Given a list lst and a number N, create a new list that contains each number of lst at most N times without reordering. For example if N = 2, and the input is [1,2,3,1,2,1,2,3], you take [1,2,3,1,2], drop the next [1,2] since this would lead to 1 and 2 being in the result 3 times, and then take 3, which leads to [1,2,3,1,2,3].\n",
    "\n",
    "Example\n",
    "  delete_nth ([1,1,1,1],2) <br>\n",
    "  return [1,1]\n",
    "\n",
    "  delete_nth ([20,37,20,21],1) <br>\n",
    "  return [20,37,21]"
   ]
  },
  {
   "cell_type": "markdown",
   "metadata": {},
   "source": [
    "##### Solution:"
   ]
  },
  {
   "cell_type": "code",
   "execution_count": 19,
   "metadata": {},
   "outputs": [],
   "source": [
    "def delete_nth(order,max_e):\n",
    "    if not order or max_e < 1:\n",
    "        return []\n",
    "    \n",
    "    counted_order = { x:0 for x in order }\n",
    "    new_order = []\n",
    "    \n",
    "    for item in order:\n",
    "        if counted_order[item] < max_e:\n",
    "            counted_order[item] += 1\n",
    "            new_order.append(item)\n",
    "  \n",
    "    return new_order"
   ]
  },
  {
   "cell_type": "markdown",
   "metadata": {},
   "source": [
    "## Find The Duplicated Number in a Consecutive Unsorted List - Tougher Version"
   ]
  },
  {
   "cell_type": "markdown",
   "metadata": {},
   "source": [
    "##### Task:\n",
    "Spin-off of this kata, here you will have to figure out an efficient strategy to solve the problem of finding the sole duplicate number among an unsorted array/list of numbers starting from 1 up to n.\n",
    "\n",
    "Hints: a solution in linear time can be found; using the most intuitive ones to search for duplicates that can run in O(n²) time won't work."
   ]
  },
  {
   "cell_type": "markdown",
   "metadata": {},
   "source": [
    "##### Solution:"
   ]
  },
  {
   "cell_type": "code",
   "execution_count": 21,
   "metadata": {},
   "outputs": [],
   "source": [
    "def find_dup(arr):\n",
    "    arr.sort()\n",
    "    for i in range(len(arr) - 1):\n",
    "        if arr[i] == arr[i + 1]:\n",
    "            return arr[i]"
   ]
  }
 ],
 "metadata": {
  "kernelspec": {
   "display_name": "Python 3",
   "language": "python",
   "name": "python3"
  },
  "language_info": {
   "codemirror_mode": {
    "name": "ipython",
    "version": 3
   },
   "file_extension": ".py",
   "mimetype": "text/x-python",
   "name": "python",
   "nbconvert_exporter": "python",
   "pygments_lexer": "ipython3",
   "version": "3.7.3"
  }
 },
 "nbformat": 4,
 "nbformat_minor": 2
}
